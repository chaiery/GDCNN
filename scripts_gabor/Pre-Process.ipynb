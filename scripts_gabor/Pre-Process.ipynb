{
 "cells": [
  {
   "cell_type": "code",
   "execution_count": 23,
   "metadata": {},
   "outputs": [],
   "source": [
    "import os\n",
    "import numpy\n",
    "from PIL import Image\n",
    "import elastic_transform_square as elastic\n",
    "ori_path = '../JpegOriginalImg/'\n",
    "label_path = '../newPNGlabeled/'\n",
    "\n",
    "fnames = os.listdir(ori_path)\n",
    "img = Image.open(ori_path+fnames[1])\n",
    "\n",
    "img = numpy.asarray(img)\n",
    "img = img[0:116,6:122]\n"
   ]
  },
  {
   "cell_type": "code",
   "execution_count": 24,
   "metadata": {},
   "outputs": [
    {
     "data": {
      "image/png": "[encoded data removed]",
      "text/plain": [
       "<PIL.Image.Image image mode=L size=116x116 at 0x1069A4550>"
      ]
     },
     "execution_count": 24,
     "metadata": {},
     "output_type": "execute_result"
    }
   ],
   "source": [
    "img_show = Image.fromarray(img)\n",
    "img_show"
   ]
  },
  {
   "cell_type": "code",
   "execution_count": 38,
   "metadata": {},
   "outputs": [
    {
     "data": {
      "image/png": "[encoded data removed]",
      "text/plain": [
       "<PIL.Image.Image image mode=L size=116x116 at 0x106AB0D68>"
      ]
     },
     "execution_count": 38,
     "metadata": {},
     "output_type": "execute_result"
    }
   ],
   "source": [
    "imgnew = elastic.elastic_transform(img, 10, 2, random_state=None)\n",
    "imgnew_show = Image.fromarray(imgnew)\n",
    "imgnew_show"
   ]
  },
  {
   "cell_type": "code",
   "execution_count": 47,
   "metadata": {},
   "outputs": [],
   "source": [
    "f = open('/Users/apple/Dropbox/GDCNN/image_collection')\n",
    "import re\n",
    "import pickle\n",
    "fnames = []\n",
    "for x in f.readlines():\n",
    "    x = x.strip('\\n')\n",
    "    start = x.find('image')\n",
    "    end = x.find('.')\n",
    "    x = x[0+5:end]\n",
    "    fnames.append(int(x))\n",
    "    fnames.sort()"
   ]
  },
  {
   "cell_type": "code",
   "execution_count": 51,
   "metadata": {},
   "outputs": [],
   "source": [
    "w = open('/Users/apple/Dropbox/GDCNN/fnames_collection_2','w')\n",
    "for i in fnames:\n",
    "    w.write(str(i)+' ')\n",
    "w.close()"
   ]
  },
  {
   "cell_type": "code",
   "execution_count": 67,
   "metadata": {},
   "outputs": [],
   "source": [
    "fnames_file = '/Users/apple/Documents/Lab_Winter/GDCNN/fnames_collection'\n",
    "with open(fnames_file, 'wb') as wr:\n",
    "    pickle.dump(fnames, wr)"
   ]
  },
  {
   "cell_type": "code",
   "execution_count": 72,
   "metadata": {},
   "outputs": [
    {
     "data": {
      "text/plain": [
       "[8, 9, 10, 11, 12, 13, 14, 15, 16]"
      ]
     },
     "execution_count": 72,
     "metadata": {},
     "output_type": "execute_result"
    }
   ],
   "source": [
    "pkl_file = open('/Users/apple/Documents/Lab_Winter/GDCNN/fnames_collection', 'rb')\n",
    "fnames_import = pickle.load(pkl_file)\n",
    "for i in range (0,10):\n",
    "\tfnames[i] = str(fnames[i])\n",
    "fnames_import[1:10]"
   ]
  },
  {
   "cell_type": "code",
   "execution_count": 73,
   "metadata": {
    "collapsed": true
   },
   "outputs": [],
   "source": [
    "pred_path = '/Users/apple/Documents/Lab_Winter/GDCNN/pred'\n",
    "\n",
    "pkl_file = open('/Users/apple/Documents/Lab_Winter/GDCNN/fnames_collection', 'rb')\n",
    "fnames = pickle.load(pkl_file)\n",
    "for i in range (0,len(fnames)):\n",
    "\tfnames[i] = str(fnames[i])\n",
    "\tfnames[i] = 'image' + fnames[i] + '.png'\n",
    "\n",
    "test_index = fnames[400:410]"
   ]
  },
  {
   "cell_type": "code",
   "execution_count": 74,
   "metadata": {},
   "outputs": [
    {
     "data": {
      "text/plain": [
       "['image407.png',\n",
       " 'image408.png',\n",
       " 'image409.png',\n",
       " 'image410.png',\n",
       " 'image411.png',\n",
       " 'image412.png',\n",
       " 'image413.png',\n",
       " 'image414.png',\n",
       " 'image415.png',\n",
       " 'image416.png']"
      ]
     },
     "execution_count": 74,
     "metadata": {},
     "output_type": "execute_result"
    }
   ],
   "source": [
    "test_index"
   ]
  },
  {
   "cell_type": "code",
   "execution_count": 6,
   "metadata": {},
   "outputs": [],
   "source": [
    "import pickle\n",
    "pkl_file = open('/Users/apple/Documents/Lab_Winter/GDCNN/fnames_collection', 'rb')\n",
    "fnames_import = pickle.load(pkl_file)\n",
    "\n",
    "w = open('/Users/apple/Documents/Lab_Winter/GDCNN/fnames_collection_2','w')\n",
    "for i in fnames_import:\n",
    "    w.write(str(i)+' ')\n",
    "w.close()\n",
    "    "
   ]
  }
 ],
 "metadata": {
  "kernelspec": {
   "display_name": "Python 2",
   "language": "python",
   "name": "python2"
  },
  "language_info": {
   "codemirror_mode": {
    "name": "ipython",
    "version": 2
   },
   "file_extension": ".py",
   "mimetype": "text/x-python",
   "name": "python",
   "nbconvert_exporter": "python",
   "pygments_lexer": "ipython2",
   "version": "2.7.12"
  }
 },
 "nbformat": 4,
 "nbformat_minor": 2
}
