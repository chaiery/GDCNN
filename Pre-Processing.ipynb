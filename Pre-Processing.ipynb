{
 "cells": [
  {
   "cell_type": "code",
   "execution_count": 1,
   "metadata": {
    "collapsed": true
   },
   "outputs": [],
   "source": [
    "import glob\n",
    "import os\n",
    "import os.path\n",
    "from subprocess import call\n"
   ]
  },
  {
   "cell_type": "code",
   "execution_count": 15,
   "metadata": {
    "collapsed": false
   },
   "outputs": [],
   "source": [
    "folders = ['../../Developer/five-video-classification-methods/data/train/', './test/']\n",
    "\n",
    "folder = folders[0]\n",
    "class_folders = glob.glob(folder + '*')\n",
    "\n",
    "class_folder = class_folders[0]\n",
    "class_files = glob.glob(class_folder+'/*.avi')\n",
    "\n",
    "video_path = class_files[0]\n",
    "\n",
    "parts = video_path.split('/')\n",
    "\n",
    "filename = parts[-1]\n",
    "filename_no_ext = filename.split('.')[0]\n",
    "classname = parts[-2]\n",
    "train_or_test = parts[-3]"
   ]
  },
  {
   "cell_type": "code",
   "execution_count": 45,
   "metadata": {
    "collapsed": false
   },
   "outputs": [
    {
     "data": {
      "text/plain": [
       "['..',\n",
       " '..',\n",
       " 'Developer',\n",
       " 'five-video-classification-methods',\n",
       " 'data',\n",
       " 'train',\n",
       " 'HandstandWalking',\n",
       " 'v_HandstandWalking_g11_c02.avi']"
      ]
     },
     "execution_count": 45,
     "metadata": {},
     "output_type": "execute_result"
    }
   ],
   "source": [
    "parts"
   ]
  }
 ],
 "metadata": {
  "kernelspec": {
   "display_name": "Python 3",
   "language": "python",
   "name": "python3"
  },
  "language_info": {
   "codemirror_mode": {
    "name": "ipython",
    "version": 3
   },
   "file_extension": ".py",
   "mimetype": "text/x-python",
   "name": "python",
   "nbconvert_exporter": "python",
   "pygments_lexer": "ipython3",
   "version": "3.6.0"
  }
 },
 "nbformat": 4,
 "nbformat_minor": 2
}
