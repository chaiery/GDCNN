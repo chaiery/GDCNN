{
 "cells": [
  {
   "cell_type": "code",
   "execution_count": 1,
   "metadata": {
    "collapsed": true,
    "deletable": true,
    "editable": true
   },
   "outputs": [],
   "source": [
    "import math\n",
    "from theano import tensor\n",
    "import theano\n",
    "from theano import pp\n",
    "import random\n",
    "import numpy as np"
   ]
  },
  {
   "cell_type": "code",
   "execution_count": null,
   "metadata": {
    "collapsed": true,
    "deletable": true,
    "editable": true
   },
   "outputs": [],
   "source": [
    "g_theta = ((yt*xt/sigma**2)*(gamma**2-1)+1j*2*math.pi*f*yt)*value\n",
    "g_f = (2/f + 1j*2*math.pi*xt)*value\n",
    "g_gamma = -(yt**2*gamma/sigma**2+1/gamma)*value\n",
    "g_theta = ((xt**2 + gamma**2*yt**2)/sigma**3)*value\n",
    "g_psi = value\n"
   ]
  },
  {
   "cell_type": "code",
   "execution_count": 1,
   "metadata": {
    "collapsed": false,
    "deletable": true,
    "editable": true
   },
   "outputs": [
    {
     "data": {
      "text/plain": [
       "36"
      ]
     },
     "execution_count": 1,
     "metadata": {},
     "output_type": "execute_result"
    }
   ],
   "source": [
    "# I know the 5 parameters in list variable params\n",
    "def garbor_filter(x,y,params):\n",
    "    f,gamma,sigma,theta,psi = params\n",
    "    xt = x*math.cos(theta) + y*math.sin(theta)\n",
    "    yt = -x*math.sin(theta) + y*math.cos(theta)\n",
    "    z1 = -(xt**2 + (gamma*yt)**2)/(2*sigma**2)\n",
    "    z2 = 1j*2*math.pi*f*xt+psi\n",
    "    value = f**2/(math.pi*gamma)*math.exp(z1)*cmath.exp(z2)\n",
    "    return value\n",
    "\n",
    "value = garbor_filter(x,y,f,gamma,sigma,theta,psi)\n",
    "\n",
    "def g_theta(x,y,params):\n",
    "    f,gamma,sigma,theta,psi = params\n",
    "    value = garbor_filter(x,y,params)\n",
    "    return ((yt*xt/sigma**2)*(gamma**2-1)+1j*2*math.pi*f*yt)*value\n",
    "\n",
    "def g_f(x,y,params):\n",
    "    f,gamma,sigma,theta,psi = params\n",
    "    value = garbor_filter(x,y,params)  \n",
    "    return (2/f + 1j*2*math.pi*xt)*value\n",
    "\n",
    "def g_gamma(x,y,params):\n",
    "    f,gamma,sigma,theta,psi = params\n",
    "    value = garbor_filter(x,y,params)  \n",
    "    return -(yt**2*gamma/sigma**2+1/gamma)*value\n",
    "\n",
    "def g_theta(x,y,params):\n",
    "    f,gamma,sigma,theta,psi = params\n",
    "    value = garbor_filter(x,y,params)  \n",
    "    return ((xt**2 + gamma**2*yt**2)/sigma**3)*value\n",
    "\n",
    "def g_psi(x,y,params):\n",
    "    f,gamma,sigma,theta,psi = params\n",
    "    value = garbor_filter(x,y,params)  \n",
    "    return value\n",
    "\n",
    "\n",
    "def gabor_filter_initiation(shape):\n",
    "    [NumChannel,NumFilter,size,size] = shape\n",
    "    Ws = np.array([]).reshape(1,-1)\n",
    "    for i in range (0,NumFilter*NumFilter):\n",
    "        f = random.uniform(0.0001,2)\n",
    "        gamma = random.uniform(0.0001,1)\n",
    "        sigma = random.uniform(0.0001,2)\n",
    "        theta = random.uniform(0,2*math.pi)    \n",
    "        psi = random.uniform(0.0001,2)\n",
    "        \n",
    "        params = [f, gamma, sigma, theta, psi]\n",
    "        \n",
    "        bond = math.floor(size/2)\n",
    "        x_range = np.linspace(-bond, bond, size)\n",
    "        y_range = np.linspace(-bond, bond, size)\n",
    "\n",
    "        [x_range,y_range] = list(map(lambda x:x.reshape(1,-1),np.meshgrid(x_range,y_range)))\n",
    "        gfilter = []\n",
    "        for (x,y) in zip(np.ndarray.tolist(x_range)[0], np.ndarray.tolist(y_range)[0]):\n",
    "            value = garbor_filter(x,y,params)\n",
    "            gfilter.append(value.real)\n",
    "        \n",
    "        W = np.array(gfilter)\n",
    "        Ws = np.concatenate((Ws,W),axis=1)\n",
    "    Ws = Ws.reshape(shape)\n",
    "    return Ws\n",
    "\n",
    "\n",
    "def gabor_filter_update(size, params, f):\n",
    "    bond = math.floor(size/2)\n",
    "    x_range = np.linspace(-bond, bond, size)\n",
    "    y_range = np.linspace(-bond, bond, size)\n",
    "\n",
    "    [x_range,y_range] = list(map(lambda x:x.reshape(1,-1),np.meshgrid(x_range,y_range)))\n",
    "    gfilter = []\n",
    "    for (x,y) in zip(np.ndarray.tolist(x_range)[0], np.ndarray.tolist(y_range)[0]):        \n",
    "        update = f(x,y,params)\n",
    "        updates.append(update.real)\n",
    "    "
   ]
  },
  {
   "cell_type": "code",
   "execution_count": 5,
   "metadata": {
    "collapsed": false,
    "deletable": true,
    "editable": true
   },
   "outputs": [
    {
     "data": {
      "text/plain": [
       "-1"
      ]
     },
     "execution_count": 5,
     "metadata": {},
     "output_type": "execute_result"
    }
   ],
   "source": [
    "def xaddy(x,y):\n",
    "    return x+y\n",
    "\n",
    "def xminusy(x,y):\n",
    "    return x-y\n",
    "\n",
    "def calculate(x,y,f):\n",
    "    return f(x,y)\n",
    "\n",
    "calculate(1,2,xminusy)"
   ]
  },
  {
   "cell_type": "code",
   "execution_count": 13,
   "metadata": {
    "collapsed": false,
    "deletable": true,
    "editable": true
   },
   "outputs": [
    {
     "data": {
      "text/plain": [
       "3"
      ]
     },
     "execution_count": 13,
     "metadata": {},
     "output_type": "execute_result"
    }
   ],
   "source": [
    "def xaddy(params):\n",
    "    return params['x']+params['y']\n",
    "\n",
    "data = {'x':1,'y':2}\n",
    "xaddy(*data)"
   ]
  },
  {
   "cell_type": "code",
   "execution_count": 21,
   "metadata": {
    "collapsed": false,
    "deletable": true,
    "editable": true
   },
   "outputs": [
    {
     "data": {
      "text/plain": [
       "array([1, 2, 3])"
      ]
     },
     "execution_count": 21,
     "metadata": {},
     "output_type": "execute_result"
    }
   ],
   "source": [
    "lis = [1,2,3]\n",
    "np.array(lis)"
   ]
  }
 ],
 "metadata": {
  "kernelspec": {
   "display_name": "Python 3",
   "language": "python",
   "name": "python3"
  },
  "language_info": {
   "codemirror_mode": {
    "name": "ipython",
    "version": 3
   },
   "file_extension": ".py",
   "mimetype": "text/x-python",
   "name": "python",
   "nbconvert_exporter": "python",
   "pygments_lexer": "ipython3",
   "version": "3.5.0"
  }
 },
 "nbformat": 4,
 "nbformat_minor": 2
}
