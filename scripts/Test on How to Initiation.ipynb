{
 "cells": [
  {
   "cell_type": "code",
   "execution_count": 2,
   "metadata": {
    "collapsed": false,
    "deletable": true,
    "editable": true
   },
   "outputs": [],
   "source": [
    "from theano import tensor as T\n",
    "import lasagne as nn\n",
    "import numpy as np\n",
    "import pickle\n",
    "from input_process import read_images"
   ]
  },
  {
   "cell_type": "code",
   "execution_count": 4,
   "metadata": {
    "collapsed": false,
    "deletable": true,
    "editable": true
   },
   "outputs": [],
   "source": [
    "size = (116, 116)\n",
    "pkl_file = open('../fnames_collection_2', 'r')\n",
    "fnames = pkl_file.readline()\n",
    "fnames = fnames.split(' ')\n",
    "for i in range (0,len(fnames)):\n",
    "\tfnames[i] = str(fnames[i])\n",
    "\tfnames[i] = 'image' + fnames[i] + '.png'\n",
    "\n",
    "train_index = fnames[0:4]\n",
    "\n",
    "label_path = '../NewPNGlabeled/'\n",
    "ori_path = '../JpegOriginalImg/'\n",
    "train_input, train_label = read_images(label_path, ori_path, train_index, size)\n",
    "#test_input, test_label, shape = read_images(label_path, ori_path, test_index, size)"
   ]
  },
  {
   "cell_type": "code",
   "execution_count": 17,
   "metadata": {
    "collapsed": false,
    "deletable": true,
    "editable": true
   },
   "outputs": [],
   "source": [
    "#input_var = T.tensor4('input_var') \n",
    "#label_var = T.tensor4('label_var') \n",
    "input_var = train_input\n",
    "label_var = train_label\n",
    "shape = [4,1,116,116]\n",
    "layer = nn.layers.InputLayer(shape,input_var)"
   ]
  },
  {
   "cell_type": "code",
   "execution_count": 18,
   "metadata": {
    "collapsed": false,
    "deletable": true,
    "editable": true
   },
   "outputs": [
    {
     "data": {
      "text/plain": [
       "array([[[[-0.13907561, -0.16274703, -0.246071  ],\n",
       "         [ 0.34266898, -0.12821651,  0.22992317],\n",
       "         [-0.34619913,  0.03689676, -0.04959954]]],\n",
       "\n",
       "\n",
       "       [[[-0.20934623, -0.28061303,  0.32375282],\n",
       "         [ 0.23259209, -0.24612737, -0.12392155],\n",
       "         [-0.10730103,  0.15955499, -0.27652889]]],\n",
       "\n",
       "\n",
       "       [[[ 0.0106604 , -0.30714706, -0.20883048],\n",
       "         [ 0.02040543, -0.23407865,  0.28937557],\n",
       "         [-0.22165318,  0.081631  ,  0.0418348 ]]],\n",
       "\n",
       "\n",
       "       [[[-0.02686872, -0.27733904, -0.16258191],\n",
       "         [-0.28696147,  0.33314383, -0.27885401],\n",
       "         [-0.26832548,  0.04937676,  0.32599771]]]], dtype=float32)"
      ]
     },
     "execution_count": 18,
     "metadata": {},
     "output_type": "execute_result"
    }
   ],
   "source": [
    "layer = nn.layers.Conv2DLayer(layer, num_filters = 4,filter_size = 3,\n",
    "                              nonlinearity = nn.nonlinearities.sigmoid, pad = 'same') #116 \n",
    "layer.W.eval()"
   ]
  },
  {
   "cell_type": "code",
   "execution_count": 19,
   "metadata": {
    "collapsed": false
   },
   "outputs": [
    {
     "data": {
      "text/plain": [
       "array([ 0.,  0.,  0.,  0.], dtype=float32)"
      ]
     },
     "execution_count": 19,
     "metadata": {},
     "output_type": "execute_result"
    }
   ],
   "source": [
    "layer.b.eval()"
   ]
  },
  {
   "cell_type": "code",
   "execution_count": 20,
   "metadata": {
    "collapsed": false,
    "deletable": true,
    "editable": true
   },
   "outputs": [
    {
     "data": {
      "text/plain": [
       "array([[[[ 0.21527916,  0.29668117,  0.25171503],\n",
       "         [ 0.32776523,  0.01358866, -0.25231129],\n",
       "         [-0.34097081,  0.24790588, -0.0305054 ]],\n",
       "\n",
       "        [[ 0.31623673, -0.33522487, -0.20176767],\n",
       "         [-0.10885017,  0.08209688, -0.16428117],\n",
       "         [-0.29994527,  0.33743641,  0.09881429]],\n",
       "\n",
       "        [[ 0.25733709,  0.13877778, -0.31574667],\n",
       "         [-0.33364958, -0.08675556,  0.16213627],\n",
       "         [-0.35095093, -0.28174701, -0.23183024]],\n",
       "\n",
       "        [[-0.3605375 ,  0.02346376,  0.11612003],\n",
       "         [ 0.14563733, -0.26903889, -0.13884486],\n",
       "         [-0.1927785 , -0.2127572 ,  0.07561583]]]], dtype=float32)"
      ]
     },
     "execution_count": 20,
     "metadata": {},
     "output_type": "execute_result"
    }
   ],
   "source": [
    "layer = nn.layers.Conv2DLayer(layer, num_filters = 1,filter_size = 3,\n",
    "                               nonlinearity = nn.nonlinearities.sigmoid, pad = 'same')\n",
    "layer.W.eval()"
   ]
  },
  {
   "cell_type": "code",
   "execution_count": 21,
   "metadata": {
    "collapsed": false
   },
   "outputs": [
    {
     "data": {
      "text/plain": [
       "array([ 0.], dtype=float32)"
      ]
     },
     "execution_count": 21,
     "metadata": {},
     "output_type": "execute_result"
    }
   ],
   "source": [
    "layer.b.eval()"
   ]
  },
  {
   "cell_type": "code",
   "execution_count": 22,
   "metadata": {
    "collapsed": false,
    "deletable": true,
    "editable": true
   },
   "outputs": [],
   "source": [
    "output = nn.layers.get_output(layer) # parameters will be updated - use for train\n",
    "#output_det = nn.layers.get_output(layer, deterministic=True) \n",
    "\n",
    "params = nn.layers.get_all_params(layer)\n",
    "loss = -2*T.sum(output*label_var)/T.sum(output+label_var+0.0001)\n",
    "#print (loss.eval())\n",
    "\n",
    "lr = 1 # learning rate\n",
    "updates = nn.updates.adam(loss, params, learning_rate=lr)"
   ]
  },
  {
   "cell_type": "code",
   "execution_count": 23,
   "metadata": {
    "collapsed": false,
    "deletable": true,
    "editable": true
   },
   "outputs": [
    {
     "data": {
      "text/plain": [
       "b"
      ]
     },
     "execution_count": 23,
     "metadata": {},
     "output_type": "execute_result"
    }
   ],
   "source": [
    "params[1]"
   ]
  },
  {
   "cell_type": "code",
   "execution_count": 27,
   "metadata": {
    "collapsed": false,
    "deletable": true,
    "editable": true
   },
   "outputs": [
    {
     "data": {
      "text/plain": [
       "array([[[[ 1.2152493 ,  1.29665041,  1.25168502],\n",
       "         [ 1.32773459,  1.01355684,  0.74765795],\n",
       "         [ 0.6589995 ,  1.24787533,  0.96946472]],\n",
       "\n",
       "        [[ 1.31620693,  0.66474438,  0.79820234],\n",
       "         [ 0.89111918,  1.08206522,  0.83568794],\n",
       "         [ 0.7000252 ,  1.3374058 ,  1.09878445]],\n",
       "\n",
       "        [[ 1.25730729,  1.13874698,  0.68422347],\n",
       "         [ 0.66631985,  0.9132129 ,  1.16210568],\n",
       "         [ 0.6490196 ,  0.7182225 ,  0.76814008]],\n",
       "\n",
       "        [[ 0.63943255,  1.02343285,  1.11609018],\n",
       "         [ 1.14560676,  0.73092949,  0.86112458],\n",
       "         [ 0.80719197,  0.78721249,  1.07558632]]]], dtype=float32)"
      ]
     },
     "execution_count": 27,
     "metadata": {},
     "output_type": "execute_result"
    }
   ],
   "source": [
    "updates[params[2]].eval()"
   ]
  },
  {
   "cell_type": "code",
   "execution_count": null,
   "metadata": {
    "collapsed": false,
    "deletable": true,
    "editable": true
   },
   "outputs": [],
   "source": [
    "w_1 = np.random.normal(0, 0.01, (3, 3))\n",
    "w_2 = np.random.normal(0, 0.02, (3, 3))\n",
    "a_1 = w_1.reshape(1,-1)\n",
    "a_2 = w_2.reshape(1,-1)\n",
    "ve = np.concatenate((a_1,a_2),axis=1)\n",
    "w_init = ve.reshape(2,1,3,3)"
   ]
  },
  {
   "cell_type": "code",
   "execution_count": null,
   "metadata": {
    "collapsed": false,
    "deletable": true,
    "editable": true
   },
   "outputs": [],
   "source": [
    "w_init\n"
   ]
  },
  {
   "cell_type": "code",
   "execution_count": null,
   "metadata": {
    "collapsed": false,
    "deletable": true,
    "editable": true
   },
   "outputs": [],
   "source": [
    "pkl_file = open('/Users/apple/Documents/Lab_Winter/GDCNN/scripts/params_epoch_400', 'rb')\n",
    "params = pickle.load(pkl_file)\n",
    "params[4][1]"
   ]
  },
  {
   "cell_type": "code",
   "execution_count": null,
   "metadata": {
    "collapsed": false,
    "deletable": true,
    "editable": true
   },
   "outputs": [],
   "source": [
    "w1 = np.ones([3,3])\n",
    "w1 = w1.reshape(-1,3,3)\n",
    "w2 = np.ones([3,3])*2\n",
    "w2 = w2.reshape(-1,3,3)\n",
    "W_filter1 = np.concatenate((w1,w2),axis=0)\n",
    "\n",
    "w1 = np.ones([3,3])\n",
    "w1 = w1.reshape(-1,3,3)\n",
    "w2 = np.ones([3,3])*2\n",
    "w2 = w2.reshape(-1,3,3)\n",
    "W_filter2 = np.concatenate((w1,w2),axis=0)\n",
    "\n",
    "w1 = np.ones([3,3])\n",
    "w1 = w1.reshape(-1,3,3)\n",
    "w2 = np.ones([3,3])*2\n",
    "w2 = w2.reshape(-1,3,3)\n",
    "W_filter3 = np.concatenate((w1,w2),axis=0)\n",
    "\n",
    "Ws = np.concatenate((W_filter1.reshape(-1,2,3,3),W_filter2.reshape(-1,2,3,3),W_filter3.reshape(-1,2,3,3)),axis=0)\n",
    "\n"
   ]
  },
  {
   "cell_type": "code",
   "execution_count": null,
   "metadata": {
    "collapsed": false,
    "deletable": true,
    "editable": true
   },
   "outputs": [],
   "source": [
    "# if we want to initial weight of [2,2,3,3]\n",
    "shape = [2,2,3,3]\n",
    "[NumChannel,NumFilter,size,size] = shape\n",
    "\n",
    "Ws = np.array([]).reshape(1,-1)\n",
    "for i in range (0,NumFilter*NumFilter):\n",
    "    w = np.ones([3,3]).reshape(1,-1) # np.ones([3,3]) can be replaced by other functions\n",
    "    Ws = np.concatenate((Ws,w),axis=1)\n",
    "Ws = Ws.reshape(2,2,3,3)\n",
    "Ws"
   ]
  },
  {
   "cell_type": "code",
   "execution_count": null,
   "metadata": {
    "collapsed": false,
    "deletable": true,
    "editable": true
   },
   "outputs": [],
   "source": [
    "shape = [2,2,3,3]\n",
    "[NumChannel,NumFilter,size,size] = shape\n",
    "NumChannel"
   ]
  },
  {
   "cell_type": "code",
   "execution_count": null,
   "metadata": {
    "collapsed": false,
    "deletable": true,
    "editable": true
   },
   "outputs": [],
   "source": [
    "import theano\n",
    "from theano import tensor as T\n",
    "from theano import pp\n",
    "x = T.dscalar('x')\n",
    "y = T.dscalar('y')\n",
    "z = x ** 2 + y ** 2\n",
    "gz = T.grad(z,x)\n",
    "f = theano.function([x,y],gz)\n",
    "pp(f.maker.fgraph.outputs[0])\n",
    "\n",
    "#f = theano.function([x,y],gz)\n",
    "#pp(f.maker.fgraph.outputs[1])\n",
    "\n"
   ]
  },
  {
   "cell_type": "code",
   "execution_count": null,
   "metadata": {
    "collapsed": false,
    "deletable": true,
    "editable": true
   },
   "outputs": [],
   "source": [
    "import numpy as np\n",
    "nx, ny = (3, 2)\n",
    "x = np.linspace(-1, 1, 3)\n",
    "y = np.linspace(-1, 1, 3)\n",
    "xv, yv = np.meshgrid(x, y)\n",
    "xv.reshape(1,-1), yv.reshape(1,-1)\n",
    "for i in x:\n",
    "    print(i)"
   ]
  },
  {
   "cell_type": "code",
   "execution_count": null,
   "metadata": {
    "collapsed": false,
    "deletable": true,
    "editable": true
   },
   "outputs": [],
   "source": [
    "x = np.linspace(-1, 1, 3)\n",
    "y = np.linspace(-1, 1, 3)\n",
    "[x,y] = list(map(lambda x:x.reshape(1,-1),np.meshgrid(x,y)))\n",
    "print(math.floor(3/2))"
   ]
  },
  {
   "cell_type": "code",
   "execution_count": null,
   "metadata": {
    "collapsed": false,
    "deletable": true,
    "editable": true
   },
   "outputs": [],
   "source": [
    "f = random.uniform(0.0001,2)\n",
    "gamma = random.uniform(0.0001,1)\n",
    "sigma = random.uniform(0.0001,2)\n",
    "theta = random.uniform(0,2*math.pi)    \n",
    "psi = random.uniform(0.0001,2)\n",
    "    \n",
    "bond = math.floor(size/2)\n",
    "x_range = np.linspace(-bond, bond, size)\n",
    "y_range = np.linspace(-bond, bond, size)\n",
    "\n",
    "[x_range,y_range] = list(map(lambda x:x.reshape(1,-1),np.meshgrid(x_range,y_range)))\n",
    "gfilter = []\n",
    "for (x,y) in zip(np.ndarray.tolist(x_range)[0], np.ndarray.tolist(y_range)[0]):\n",
    "    xt = x*math.cos(theta) + y*math.sin(theta)\n",
    "    yt = -x*math.sin(theta) + y*math.cos(theta)\n",
    "    z1 = -(xt**2 + (gamma*yt)**2)/(2*sigma**2)\n",
    "    z2 = 1j*2*math.pi*f*xt+psi\n",
    "    value = f**2/(math.pi*gamma)*math.exp(z1)*cmath.exp(z2)\n",
    "    gfilter.append(value.real)\n",
    "\n"
   ]
  },
  {
   "cell_type": "code",
   "execution_count": null,
   "metadata": {
    "collapsed": false,
    "deletable": true,
    "editable": true
   },
   "outputs": [],
   "source": [
    "import cmath\n",
    "cmath.exp(2j)"
   ]
  },
  {
   "cell_type": "code",
   "execution_count": null,
   "metadata": {
    "collapsed": false,
    "deletable": true,
    "editable": true
   },
   "outputs": [],
   "source": [
    "import math\n",
    "from theano import tensor\n",
    "import theano\n",
    "from theano import pp\n",
    "\n",
    "math.exp(0)\n",
    "f = T.fscalar('f')\n",
    "gamma = T.fscalar('gamma')\n",
    "sigma = T.fscalar('sigma')\n",
    "theta = T.fscalar('theta')\n",
    "psi = T.fscalar('psi')\n",
    "x = T.fscalar('x')\n",
    "y = T.fscalar('y')\n",
    "\n",
    "xt = x*T.cos(theta) + y*T.sin(theta)\n",
    "yt = -x*T.sin(theta) + y*T.cos(theta)\n",
    "z1 = -(xt**2 + (gamma*yt)**2)/(2*sigma**2)\n",
    "z2 = 1j*2*math.pi*f*xt+psi\n",
    "value = f**2/(math.pi*gamma)*math.exp(z1)*cmath.exp(z2)\n",
    "\n",
    "gz = T.grad(value,theta)\n",
    "f = theano.function([x,y,f,gamma,sigma,theta,psi],gz)\n",
    "pp(f.maker.fgraph.outputs[0])"
   ]
  },
  {
   "cell_type": "code",
   "execution_count": null,
   "metadata": {
    "collapsed": false,
    "deletable": true,
    "editable": true
   },
   "outputs": [],
   "source": [
    "from theano import tensor\n",
    "import theano\n",
    "from theano import pp\n",
    "xt = x*tensor.cos(2*theta)\n",
    "gz = theano.grad(xt,x)\n",
    "#f = theano.function([x,theta],gz)\n",
    "#pp(f.maker.fgraph.outputs[0])\n",
    "gz_new = gz*1.5\n",
    "f = theano.function([x,theta],gz_new)\n",
    "f(1,1)\n"
   ]
  },
  {
   "cell_type": "code",
   "execution_count": null,
   "metadata": {
    "collapsed": false,
    "deletable": true,
    "editable": true
   },
   "outputs": [],
   "source": [
    "math.cos(2)*1.5"
   ]
  },
  {
   "cell_type": "code",
   "execution_count": 42,
   "metadata": {
    "collapsed": false,
    "deletable": true,
    "editable": true
   },
   "outputs": [
    {
     "data": {
      "text/plain": [
       "[1, 2]"
      ]
     },
     "execution_count": 42,
     "metadata": {},
     "output_type": "execute_result"
    }
   ],
   "source": [
    "index = np.ndarray.tolist(np.random.randint(0,10,5))\n",
    "index[0:2]"
   ]
  },
  {
   "cell_type": "code",
   "execution_count": 51,
   "metadata": {
    "collapsed": false,
    "deletable": true,
    "editable": true
   },
   "outputs": [
    {
     "name": "stdout",
     "output_type": "stream",
     "text": [
      "[1, 4, 5, 2, 3]\n"
     ]
    }
   ],
   "source": [
    "a = [1,2,3,4,5]\n",
    "random.shuffle(a)\n",
    "print(a)"
   ]
  }
 ],
 "metadata": {
  "kernelspec": {
   "display_name": "Python 3",
   "language": "python",
   "name": "python3"
  },
  "language_info": {
   "codemirror_mode": {
    "name": "ipython",
    "version": 3
   },
   "file_extension": ".py",
   "mimetype": "text/x-python",
   "name": "python",
   "nbconvert_exporter": "python",
   "pygments_lexer": "ipython3",
   "version": "3.5.0"
  }
 },
 "nbformat": 4,
 "nbformat_minor": 2
}
