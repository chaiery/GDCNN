{
 "cells": [
  {
   "cell_type": "code",
   "execution_count": 1,
   "metadata": {},
   "outputs": [
    {
     "name": "stderr",
     "output_type": "stream",
     "text": [
      "/usr/local/lib/python2.7/dist-packages/theano/gpuarray/dnn.py:135: UserWarning: Your cuDNN version is more recent than Theano. If you encounter problems, try updating Theano or downgrading cuDNN to version 5.1.\n",
      "  warnings.warn(\"Your cuDNN version is more recent than \"\n",
      "Using cuDNN version 6020 on context None\n",
      "Mapped name None to device cuda: Quadro K2000 (0000:01:00.0)\n"
     ]
    }
   ],
   "source": [
    "from theano import tensor as T\n",
    "import lasagne_dev as nn\n",
    "import numpy as np\n",
    "import pickle\n",
    "from input_process import read_images\n",
    "import random\n",
    "import math\n",
    "import cmath\n",
    "from g_gradient import *\n",
    "import timeit\n",
    "import unet"
   ]
  },
  {
   "cell_type": "code",
   "execution_count": 2,
   "metadata": {},
   "outputs": [
    {
     "name": "stdout",
     "output_type": "stream",
     "text": [
      "13.7809448242\n"
     ]
    }
   ],
   "source": [
    "start = timeit.default_timer()\n",
    "epoch = 1\n",
    "\n",
    "input_var = T.tensor4('input_var')  \n",
    "label_var = T.tensor4('label_var')\n",
    "\n",
    "[network, loss, test_loss, test_acc, output_det] = unet.network(input_var, label_var, [5,1,116,116])\n",
    "\n",
    "\n",
    "params = nn.layers.get_all_params(network)\n",
    "lr = theano.shared(nn.utils.floatX(1e-4)) # learning rate\n",
    "updates = nn.updates.adam(loss,params, learning_rate=lr) # adam most widely used update scheme\n",
    "#updates = nn.updates.momentum(loss,params, learning_rate=lr,momentum=0.99)\n",
    "gs = nn.layers.get_all_gs(network)\n",
    "\n",
    "stop = timeit.default_timer()\n",
    "print stop - start "
   ]
  },
  {
   "cell_type": "code",
   "execution_count": 160,
   "metadata": {},
   "outputs": [],
   "source": [
    "def gabor_filter(x,y,params):\n",
    "    f,gamma,sigma,theta,psi = params\n",
    "    xt = x*math.cos(theta) + y*math.sin(theta)\n",
    "    yt = -x*math.sin(theta) + y*math.cos(theta)\n",
    "    z1 = -(xt**2 + (gamma*yt)**2)/(2*sigma**2)\n",
    "    z2 = 1j*2*math.pi*f*xt+psi\n",
    "    value = f**2/(math.pi*gamma)*math.exp(z1)*cmath.exp(z2)\n",
    "    return value\n",
    "\n",
    "def gabor_filter_dev(x,y,params):\n",
    "    f,gamma,sigma,theta,psi = params\n",
    "    z2 = psi\n",
    "    value = f**2/(math.pi*gamma)*cmath.exp(z2)\n",
    "    return value\n",
    "\n",
    "\n",
    "def g_psi(x,y,params):\n",
    "    f,gamma,sigma,theta,psi = params\n",
    "    value = gabor_filter(x,y,params)  \n",
    "    return value\n",
    "\n",
    "def gabor_filter_update_dev(size, params, f):\n",
    "    bond = math.floor(size/2)\n",
    "    x_range = np.linspace(-bond, bond, size)\n",
    "    y_range = np.linspace(-bond, bond, size)\n",
    "\n",
    "    [x_range,y_range] = list(map(lambda x:x.reshape(1,-1),np.meshgrid(x_range,y_range)))\n",
    "    gfilter = []\n",
    "    updates = []\n",
    "    for (x,y) in zip(np.ndarray.tolist(x_range)[0], np.ndarray.tolist(y_range)[0]):        \n",
    "        update = f(x,y,params)\n",
    "        updates.append(update.real)\n",
    "    updates = np.array(updates, dtype=np.float32).reshape(size,-1)\n",
    "    return updates\n",
    "\n",
    "\n",
    "def g_updates_dev(loss, params, gs):\n",
    "    # Calculate gradients: 0.05\n",
    "    gs_gradients = []\n",
    "    gradients = nn.updates.get_or_compute_grads(loss, params)\n",
    "    \n",
    "    for w_index in range (0, int(len(params)/2)):\n",
    "        # First Loop\n",
    "        print(w_index)\n",
    "        \n",
    "        ws = params[w_index*2]\n",
    "        g_params = gs[w_index].get_value()\n",
    "        ws_gradients = gradients[w_index*2]\n",
    "\n",
    "        [num_filters, num_channels, filter_size, filter_size] = ws.get_value().shape\n",
    "        \n",
    "        position = filter_size/2\n",
    "        ws_grad = gradients[0][:,:,position:position+1,position]\n",
    "        #g_gradient = g_psi(0,0,g)\n",
    "\n",
    "        # Second and third Loop\n",
    "        additions = []\n",
    "        for i in range (0, num_filters):\n",
    "            for j in range (0, num_channels):\n",
    "                g = g_params[i,j,:]\n",
    "\n",
    "                additions.append(g_psi(0,0,g))\n",
    "                \n",
    "                #addition = gabor_filter_update_dev(filter_size, g, g_psi)\t# need adjustment\n",
    "                \n",
    "                \n",
    "                #a = (w_gradient*addition).sum()\n",
    "                #psi_gradient = a/9\n",
    "                #g_gradient = np.array([0,0,0,0,psi_gradient.eval()]).reshape(1,-1)\t\t# need adjustment\t\t\t\t\n",
    "                #g_gradients = np.concatenate((g_gradients,g_gradient),axis=1)\n",
    "                \n",
    "                #a = sum(sum(w_gradient*addition))\n",
    "                #a = (w_gradient*addition).sum()\n",
    "                #psi_gradient = a/9\n",
    "                #g_gradient = np.array([update*0,update*0,update*0,update*0,update]).reshape(1,-1)\n",
    "                #g_gradient = np.array([0,0,0,0,psi_gradient]).reshape(1,-1)\n",
    "                #g_gradients = np.concatenate((g_gradients,g_gradient),axis=1)\n",
    "\n",
    "        additions =  np.array(additions).reshape(num_filters,num_channels,-1)\n",
    "        g_gradients = theano.tensor.concatenate([ws_grad*0, ws_grad*0, ws_grad*0, ws_grad*0, ws_grad*0], axis=2)*additions\n",
    "        gs_gradients.append(g_gradients)\n",
    "    gs_updates = nn.updates.adam_dev(gs_gradients, gs)\n",
    "    return gs_updates"
   ]
  },
  {
   "cell_type": "code",
   "execution_count": 164,
   "metadata": {},
   "outputs": [
    {
     "name": "stdout",
     "output_type": "stream",
     "text": [
      "0\n",
      "1\n",
      "2\n",
      "3\n",
      "4\n",
      "5\n",
      "0.833833932877\n"
     ]
    }
   ],
   "source": [
    "start = timeit.default_timer()\n",
    "gs_updates = g_updates_dev(loss, params, gs)\n",
    "stop = timeit.default_timer()\n",
    "print stop - start "
   ]
  },
  {
   "cell_type": "code",
   "execution_count": 5,
   "metadata": {},
   "outputs": [
    {
     "ename": "NameError",
     "evalue": "name 'gradients' is not defined",
     "output_type": "error",
     "traceback": [
      "\u001b[0;31m---------------------------------------------------------------------------\u001b[0m",
      "\u001b[0;31mNameError\u001b[0m                                 Traceback (most recent call last)",
      "\u001b[0;32m<ipython-input-5-aeb95aafcf17>\u001b[0m in \u001b[0;36m<module>\u001b[0;34m()\u001b[0m\n\u001b[1;32m      3\u001b[0m \u001b[0mws\u001b[0m \u001b[0;34m=\u001b[0m \u001b[0mparams\u001b[0m\u001b[0;34m[\u001b[0m\u001b[0mw_index\u001b[0m\u001b[0;34m*\u001b[0m\u001b[0;36m2\u001b[0m\u001b[0;34m]\u001b[0m\u001b[0;34m\u001b[0m\u001b[0m\n\u001b[1;32m      4\u001b[0m \u001b[0mg_params\u001b[0m \u001b[0;34m=\u001b[0m \u001b[0mgs\u001b[0m\u001b[0;34m[\u001b[0m\u001b[0mw_index\u001b[0m\u001b[0;34m]\u001b[0m\u001b[0;34m.\u001b[0m\u001b[0mget_value\u001b[0m\u001b[0;34m(\u001b[0m\u001b[0;34m)\u001b[0m\u001b[0;34m\u001b[0m\u001b[0m\n\u001b[0;32m----> 5\u001b[0;31m \u001b[0mws_gradients\u001b[0m \u001b[0;34m=\u001b[0m \u001b[0mgradients\u001b[0m\u001b[0;34m[\u001b[0m\u001b[0mw_index\u001b[0m\u001b[0;34m*\u001b[0m\u001b[0;36m2\u001b[0m\u001b[0;34m]\u001b[0m\u001b[0;34m\u001b[0m\u001b[0m\n\u001b[0m\u001b[1;32m      6\u001b[0m \u001b[0;34m\u001b[0m\u001b[0m\n\u001b[1;32m      7\u001b[0m \u001b[0;34m[\u001b[0m\u001b[0mnum_filters\u001b[0m\u001b[0;34m,\u001b[0m \u001b[0mnum_channels\u001b[0m\u001b[0;34m,\u001b[0m \u001b[0mfilter_size\u001b[0m\u001b[0;34m,\u001b[0m \u001b[0mfilter_size\u001b[0m\u001b[0;34m]\u001b[0m \u001b[0;34m=\u001b[0m \u001b[0mws\u001b[0m\u001b[0;34m.\u001b[0m\u001b[0mget_value\u001b[0m\u001b[0;34m(\u001b[0m\u001b[0;34m)\u001b[0m\u001b[0;34m.\u001b[0m\u001b[0mshape\u001b[0m\u001b[0;34m\u001b[0m\u001b[0m\n",
      "\u001b[0;31mNameError\u001b[0m: name 'gradients' is not defined"
     ]
    }
   ],
   "source": [
    "start = timeit.default_timer()\n",
    "w_index = 0\n",
    "ws = params[w_index*2]\n",
    "g_params = gs[w_index].get_value()\n",
    "ws_gradients = gradients[w_index*2]\n",
    "\n",
    "[num_filters, num_channels, filter_size, filter_size] = ws.get_value().shape\n",
    "\n",
    "g_gradients = np.array([], dtype=np.float32).reshape(1,-1)\n",
    "\n",
    "i = 0\n",
    "j = 0\n",
    "g = g_params[i,j,:]\n",
    "w = ws[i,j,:,:]\n",
    "\n",
    "w_gradient = ws_gradients[i,j,:]\n",
    "\n",
    "addition = gabor_filter_update_dev(filter_size, g, g_psi)\t# need adjustment\n",
    "stop = timeit.default_timer()\n",
    "print stop - start "
   ]
  },
  {
   "cell_type": "code",
   "execution_count": 49,
   "metadata": {},
   "outputs": [
    {
     "ename": "TypeError",
     "evalue": "Shared variable constructor needs numeric values and not symbolic variables.",
     "output_type": "error",
     "traceback": [
      "\u001b[0;31m---------------------------------------------------------------------------\u001b[0m",
      "\u001b[0;31mTypeError\u001b[0m                                 Traceback (most recent call last)",
      "\u001b[0;32m<ipython-input-49-923976dc2517>\u001b[0m in \u001b[0;36m<module>\u001b[0;34m()\u001b[0m\n\u001b[1;32m      2\u001b[0m \u001b[0mws_gradients\u001b[0m \u001b[0;34m=\u001b[0m \u001b[0mgradients\u001b[0m\u001b[0;34m[\u001b[0m\u001b[0;36m0\u001b[0m\u001b[0;34m]\u001b[0m\u001b[0;34m\u001b[0m\u001b[0m\n\u001b[1;32m      3\u001b[0m \u001b[0mws_gradients\u001b[0m\u001b[0;34m[\u001b[0m\u001b[0;36m0\u001b[0m\u001b[0;34m,\u001b[0m\u001b[0;36m0\u001b[0m\u001b[0;34m,\u001b[0m\u001b[0;36m1\u001b[0m\u001b[0;34m,\u001b[0m\u001b[0;36m1\u001b[0m\u001b[0;34m]\u001b[0m\u001b[0;34m\u001b[0m\u001b[0m\n\u001b[0;32m----> 4\u001b[0;31m \u001b[0mtheano\u001b[0m\u001b[0;34m.\u001b[0m\u001b[0mshared\u001b[0m\u001b[0;34m(\u001b[0m\u001b[0mws_gradients\u001b[0m\u001b[0;34m)\u001b[0m\u001b[0;34m\u001b[0m\u001b[0m\n\u001b[0m",
      "\u001b[0;32m/usr/local/lib/python2.7/dist-packages/theano/compile/sharedvalue.pyc\u001b[0m in \u001b[0;36mshared\u001b[0;34m(value, name, strict, allow_downcast, **kwargs)\u001b[0m\n\u001b[1;32m    260\u001b[0m     \u001b[0;32mtry\u001b[0m\u001b[0;34m:\u001b[0m\u001b[0;34m\u001b[0m\u001b[0m\n\u001b[1;32m    261\u001b[0m         \u001b[0;32mif\u001b[0m \u001b[0misinstance\u001b[0m\u001b[0;34m(\u001b[0m\u001b[0mvalue\u001b[0m\u001b[0;34m,\u001b[0m \u001b[0mVariable\u001b[0m\u001b[0;34m)\u001b[0m\u001b[0;34m:\u001b[0m\u001b[0;34m\u001b[0m\u001b[0m\n\u001b[0;32m--> 262\u001b[0;31m             raise TypeError(\"Shared variable constructor needs numeric \"\n\u001b[0m\u001b[1;32m    263\u001b[0m                             \"values and not symbolic variables.\")\n\u001b[1;32m    264\u001b[0m \u001b[0;34m\u001b[0m\u001b[0m\n",
      "\u001b[0;31mTypeError\u001b[0m: Shared variable constructor needs numeric values and not symbolic variables."
     ]
    }
   ],
   "source": [
    "gradients = nn.updates.get_or_compute_grads(loss, params)\n",
    "ws_gradients = gradients[0]\n",
    "ws_gradients[0,0,1,1]\n",
    "theano.shared(ws_gradients)"
   ]
  },
  {
   "cell_type": "code",
   "execution_count": 241,
   "metadata": {
    "collapsed": true
   },
   "outputs": [],
   "source": [
    "def gabor_filter_dev2(x,y,params):\n",
    "    f,gamma,sigma,theta,psi = params\n",
    "    xt = x*theano.tensor.cos(theta) + y*theano.tensor.sin(theta)\n",
    "    yt = -x*theano.tensor.sin(theta) + y*theano.tensor.cos(theta)\n",
    "    z1 = -(xt**2 + (gamma*yt)**2)/(2*sigma**2)\n",
    "    z2 = 2*math.pi*f*xt+psi\n",
    "    #z2 = 1j*2*math.pi*f*xt+psi\n",
    "    value = f**2/(math.pi*gamma)*theano.tensor.exp(z1)*theano.tensor.cos(z2)\n",
    "    return value\n",
    "\n",
    "def gabor_filter_1(x,y,params):\n",
    "    f,gamma,sigma,theta,psi = params\n",
    "    xt = x*math.cos(theta) + y*math.sin(theta)\n",
    "    yt = -x*math.sin(theta) + y*math.cos(theta)\n",
    "    z1 = -(xt**2 + (gamma*yt)**2)/(2*sigma**2)\n",
    "    z2 = 1j*2*math.pi*f*xt+psi*1j\n",
    "    value = f**2/(math.pi*gamma)*math.exp(z1)*cmath.exp(z2)\n",
    "    return value\n",
    "\n",
    "def gabor_filter_2(x,y,params):\n",
    "    f,gamma,sigma,theta,psi = params\n",
    "    xt = x*math.cos(theta) + y*math.sin(theta)\n",
    "    yt = -x*math.sin(theta) + y*math.cos(theta)\n",
    "    z1 = -(xt**2 + (gamma*yt)**2)/(2*sigma**2)\n",
    "    z2 = 2*math.pi*f*xt+psi\n",
    "    value = f**2/(math.pi*gamma)*math.exp(z1)*math.cos(z2)\n",
    "    return value"
   ]
  },
  {
   "cell_type": "code",
   "execution_count": 250,
   "metadata": {},
   "outputs": [
    {
     "data": {
      "text/plain": [
       "array([Elemwise{mul,no_inplace}.0, Elemwise{mul,no_inplace}.0], dtype=object)"
      ]
     },
     "execution_count": 250,
     "metadata": {},
     "output_type": "execute_result"
    }
   ],
   "source": [
    "w_gradients = np.ones([4,4,5])\n",
    "trys = theano.shared(w_gradients)\n",
    "#trys.eval()\n",
    "a = trys[0,0][3]\n",
    "params = [a,a,a,a,a]\n",
    "#filter_ps = [gabor_filter(0,0,params),gabor_filter(0,0,params),gabor_filter(0,0,params),gabor_filter(0,0,params)]\n",
    "#np.array(filter_ps)\n",
    "x = gabor_filter_dev2(0,0,params)\n",
    "g_filters = np.array([x,x])\n",
    "g_filters"
   ]
  },
  {
   "cell_type": "code",
   "execution_count": 177,
   "metadata": {},
   "outputs": [
    {
     "ename": "TypeError",
     "evalue": "descriptor 'tolist' requires a 'numpy.ndarray' object but received a 'TensorVariable'",
     "output_type": "error",
     "traceback": [
      "\u001b[0;31m---------------------------------------------------------------------------\u001b[0m",
      "\u001b[0;31mTypeError\u001b[0m                                 Traceback (most recent call last)",
      "\u001b[0;32m<ipython-input-177-354951376b67>\u001b[0m in \u001b[0;36m<module>\u001b[0;34m()\u001b[0m\n\u001b[1;32m      1\u001b[0m \u001b[0mg_try\u001b[0m \u001b[0;34m=\u001b[0m \u001b[0mgs_updates\u001b[0m\u001b[0;34m[\u001b[0m\u001b[0mgs\u001b[0m\u001b[0;34m[\u001b[0m\u001b[0;36m0\u001b[0m\u001b[0;34m]\u001b[0m\u001b[0;34m]\u001b[0m\u001b[0;34m\u001b[0m\u001b[0m\n\u001b[0;32m----> 2\u001b[0;31m \u001b[0mnn\u001b[0m\u001b[0;34m.\u001b[0m\u001b[0mlayers\u001b[0m\u001b[0;34m.\u001b[0m\u001b[0mgabor\u001b[0m\u001b[0;34m.\u001b[0m\u001b[0mgabor_filter_initiation\u001b[0m\u001b[0;34m(\u001b[0m\u001b[0;34m[\u001b[0m\u001b[0;36m4\u001b[0m\u001b[0;34m,\u001b[0m \u001b[0;36m1\u001b[0m\u001b[0;34m,\u001b[0m \u001b[0;36m3\u001b[0m\u001b[0;34m,\u001b[0m \u001b[0;36m3\u001b[0m\u001b[0;34m]\u001b[0m\u001b[0;34m,\u001b[0m \u001b[0mg_try\u001b[0m\u001b[0;34m)\u001b[0m\u001b[0;34m\u001b[0m\u001b[0m\n\u001b[0m\u001b[1;32m      3\u001b[0m \u001b[0mg_try\u001b[0m\u001b[0;34m.\u001b[0m\u001b[0mshape\u001b[0m\u001b[0;34m\u001b[0m\u001b[0m\n",
      "\u001b[0;32m/home/hemingy/Developer/GDCNN/scripts/lasagne_dev/layers/gabor.pyc\u001b[0m in \u001b[0;36mgabor_filter_initiation\u001b[0;34m(shape, gs)\u001b[0m\n\u001b[1;32m     35\u001b[0m         \u001b[0;32mfor\u001b[0m \u001b[0mfilter_index\u001b[0m \u001b[0;32min\u001b[0m \u001b[0mrange\u001b[0m \u001b[0;34m(\u001b[0m\u001b[0;36m0\u001b[0m\u001b[0;34m,\u001b[0m\u001b[0mNumFilter\u001b[0m\u001b[0;34m)\u001b[0m\u001b[0;34m:\u001b[0m\u001b[0;34m\u001b[0m\u001b[0m\n\u001b[1;32m     36\u001b[0m             \u001b[0mparams\u001b[0m \u001b[0;34m=\u001b[0m \u001b[0mgs\u001b[0m\u001b[0;34m[\u001b[0m\u001b[0mfilter_index\u001b[0m\u001b[0;34m,\u001b[0m \u001b[0mchannel_index\u001b[0m\u001b[0;34m]\u001b[0m\u001b[0;34m\u001b[0m\u001b[0m\n\u001b[0;32m---> 37\u001b[0;31m             \u001b[0mparams\u001b[0m \u001b[0;34m=\u001b[0m \u001b[0mnp\u001b[0m\u001b[0;34m.\u001b[0m\u001b[0mndarray\u001b[0m\u001b[0;34m.\u001b[0m\u001b[0mtolist\u001b[0m\u001b[0;34m(\u001b[0m\u001b[0mparams\u001b[0m\u001b[0;34m)\u001b[0m\u001b[0;34m\u001b[0m\u001b[0m\n\u001b[0m\u001b[1;32m     38\u001b[0m \u001b[0;34m\u001b[0m\u001b[0m\n\u001b[1;32m     39\u001b[0m             \u001b[0mbond\u001b[0m \u001b[0;34m=\u001b[0m \u001b[0mmath\u001b[0m\u001b[0;34m.\u001b[0m\u001b[0mfloor\u001b[0m\u001b[0;34m(\u001b[0m\u001b[0msize\u001b[0m\u001b[0;34m/\u001b[0m\u001b[0;36m2\u001b[0m\u001b[0;34m)\u001b[0m\u001b[0;34m\u001b[0m\u001b[0m\n",
      "\u001b[0;31mTypeError\u001b[0m: descriptor 'tolist' requires a 'numpy.ndarray' object but received a 'TensorVariable'"
     ]
    }
   ],
   "source": [
    "g_try = gs_updates[gs[0]]\n",
    "nn.layers.gabor.gabor_filter_initiation([4, 1, 3, 3], g_try)\n",
    "g_try.shape"
   ]
  },
  {
   "cell_type": "code",
   "execution_count": 191,
   "metadata": {},
   "outputs": [
    {
     "data": {
      "text/plain": [
       "Subtensor{int64, int64}.0"
      ]
     },
     "execution_count": 191,
     "metadata": {},
     "output_type": "execute_result"
    }
   ],
   "source": [
    "gs_updates[gs[0]][0,0]"
   ]
  }
 ],
 "metadata": {
  "kernelspec": {
   "display_name": "Python 2",
   "language": "python",
   "name": "python2"
  },
  "language_info": {
   "codemirror_mode": {
    "name": "ipython",
    "version": 2
   },
   "file_extension": ".py",
   "mimetype": "text/x-python",
   "name": "python",
   "nbconvert_exporter": "python",
   "pygments_lexer": "ipython2",
   "version": "2.7.12"
  }
 },
 "nbformat": 4,
 "nbformat_minor": 2
}
