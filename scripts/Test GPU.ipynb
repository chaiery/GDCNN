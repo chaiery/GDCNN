{
 "cells": [
  {
   "cell_type": "code",
   "execution_count": 13,
   "metadata": {
    "collapsed": false,
    "deletable": true,
    "editable": true
   },
   "outputs": [],
   "source": [
    "from theano import tensor as T\n",
    "import lasagne_dev as nn\n",
    "import numpy as np\n",
    "import pickle\n",
    "from input_process import read_images\n",
    "import random\n",
    "import math\n",
    "import cmath\n",
    "from g_gradient import *\n",
    "import timeit\n",
    "import unet\n",
    "from collections import OrderedDict"
   ]
  },
  {
   "cell_type": "code",
   "execution_count": 19,
   "metadata": {
    "collapsed": false,
    "deletable": true,
    "editable": true
   },
   "outputs": [
    {
     "name": "stdout",
     "output_type": "stream",
     "text": [
      "0.27063217500108294\n"
     ]
    }
   ],
   "source": [
    "start = timeit.default_timer()\n",
    "epoch = 1\n",
    "shape = [5,1,116,116]\n",
    "\n",
    "input_var = T.tensor4('input_var')  \n",
    "label_var = T.tensor4('label_var')\n",
    "\n",
    "[network, loss, test_loss, test_acc, output_det] = unet.network(input_var, label_var, shape)\n",
    "\n",
    "\n",
    "params = nn.layers.get_all_params(network)\n",
    "lr = theano.shared(nn.utils.floatX(1e-4)) # learning rate\n",
    "updates = nn.updates.adam(loss,params, learning_rate=lr) # adam most widely used update scheme\n",
    "\n",
    "gs = nn.layers.get_all_gs(network)\n",
    "\n",
    "gs_updates = g_updates(loss, params, gs)\n",
    "updates = OrderedDict()\n",
    "updates_old = nn.updates.adam(loss, params, learning_rate=lr)\n",
    "\n",
    "stop = timeit.default_timer()\n",
    "print(stop-start)"
   ]
  },
  {
   "cell_type": "code",
   "execution_count": 37,
   "metadata": {
    "collapsed": true
   },
   "outputs": [],
   "source": [
    "def gabor_filter_tensor_dev(x,y,params):\n",
    "    f,gamma,sigma,theta,psi = params\n",
    "    xt = x*theano.tensor.cos(theta) + y*theano.tensor.sin(theta)\n",
    "    yt = -x*theano.tensor.sin(theta) + y*theano.tensor.cos(theta)\n",
    "    z1 = -(xt**2 + (gamma*yt)**2)/(2*sigma**2)\n",
    "    z2 = 2*math.pi*f*xt+psi\n",
    "    #z2 = 1j*2*math.pi*f*xt+psi\n",
    "    value = f**2/(math.pi*gamma)*theano.tensor.exp(z1)*theano.tensor.cos(z2)\n",
    "    return value\n",
    "\n",
    "def gabor_weight_update_dev(shape, gs):\n",
    "    [num_filters,num_channels,size,size] = shape\n",
    "    #Ws = np.array([], dtype=np.float32).reshape(1,-1)\n",
    "\n",
    "    gfilter = []\n",
    "\n",
    "    for filter_index in range (0,num_filters):\n",
    "        for channel_index in range (0,num_channels):\n",
    "            \n",
    "            params = gs[filter_index, channel_index]\n",
    "            g_params = [params[0],params[1],params[2],params[3],params[4]]\n",
    "\n",
    "            \n",
    "            bond = math.floor(size/2)\n",
    "            x_range = np.linspace(-bond, bond, size)\n",
    "            y_range = np.linspace(-bond, bond, size)\n",
    "\n",
    "            [x_range,y_range] = list(map(lambda x:x.reshape(1,-1),np.meshgrid(x_range,y_range)))\n",
    "            \n",
    "            for (x,y) in zip(np.ndarray.tolist(x_range)[0], np.ndarray.tolist(y_range)[0]):\n",
    "                value = gabor_filter_tensor_dev(x,y,g_params)\n",
    "                #gfilter.append(value)\n",
    "            \n",
    "            \n",
    "    #Ws = theano.tensor.stack(gfilter)\n",
    "    #Ws = Ws.reshape(shape)\n",
    "            #W = np.array(gfilter, dtype=np.float32)\n",
    "            #W = np.array(gfilter)\n",
    "            #W = W.reshape(1,-1)\n",
    "            #Ws = np.concatenate((Ws,W),axis=1)\n",
    "    return 0"
   ]
  },
  {
   "cell_type": "code",
   "execution_count": 74,
   "metadata": {
    "collapsed": false
   },
   "outputs": [
    {
     "name": "stdout",
     "output_type": "stream",
     "text": [
      "7.422899943776429e-05\n",
      "0.002882180007873103\n",
      "0.0034633189934538677\n",
      "0.005202672007726505\n",
      "0.0014443079999182373\n"
     ]
    }
   ],
   "source": [
    "gg = [1,2,3,4,5]\n",
    "start = timeit.default_timer()\n",
    "gabor_filter(1,1,gg)\n",
    "stop = timeit.default_timer()\n",
    "print(stop-start)\n",
    "\n",
    "\n",
    "gg_shared = theano.shared(np.array(gg))\n",
    "\n",
    "f,gamma,sigma,theta,psi = [gg_shared[0],gg_shared[1],gg_shared[2],gg_shared[3],gg_shared[4]]\n",
    "x = 1\n",
    "y = 1\n",
    "    \n",
    "start = timeit.default_timer()\n",
    "xt = x*theano.tensor.cos(theta) + y*theano.tensor.sin(theta)\n",
    "stop = timeit.default_timer()\n",
    "print(stop-start)\n",
    "\n",
    "start = timeit.default_timer()\n",
    "yt = -x*theano.tensor.sin(theta) + y*theano.tensor.cos(theta)\n",
    "stop = timeit.default_timer()\n",
    "print(stop-start)\n",
    "\n",
    "start = timeit.default_timer()\n",
    "z1 = -(xt**2 + (gamma*yt)**2)/(2*sigma**2)\n",
    "stop = timeit.default_timer()\n",
    "print(stop-start)\n",
    "\n",
    "start = timeit.default_timer()\n",
    "z2 = 2*math.pi*f*xt+psi\n",
    "stop = timeit.default_timer()\n",
    "print(stop-start)\n"
   ]
  },
  {
   "cell_type": "code",
   "execution_count": 41,
   "metadata": {
    "collapsed": false
   },
   "outputs": [
    {
     "data": {
      "text/plain": [
       "array(1)"
      ]
     },
     "execution_count": 41,
     "metadata": {},
     "output_type": "execute_result"
    }
   ],
   "source": [
    "gg = [1,2,3,4,5]\n",
    "gg_shared = theano.shared(np.array(gg))\n",
    "gg_shared[0].eval()"
   ]
  },
  {
   "cell_type": "code",
   "execution_count": 33,
   "metadata": {
    "collapsed": false
   },
   "outputs": [
    {
     "name": "stdout",
     "output_type": "stream",
     "text": [
      "27.818595878998167\n"
     ]
    }
   ],
   "source": [
    "start = timeit.default_timer()\n",
    "## generate updates for params\n",
    "\n",
    "for i in range (0,len(gs)):\n",
    "\n",
    "    gs_new = gs_updates[gs[i]]\n",
    "    ws = params[i*2]\n",
    "    [num_filters, num_channels, filter_size, filter_size] = ws.get_value().shape\n",
    "    W = gabor_weight_update_dev([num_filters, num_channels, filter_size, filter_size], gs_new)\n",
    "    #updates[ws] = theano.shared(W)\n",
    "    updates[ws] = W\n",
    "    updates[params[i*2+1]] = updates_old[params[i*2+1]]\n",
    "\n",
    "stop = timeit.default_timer()\n",
    "print(stop-start)"
   ]
  },
  {
   "cell_type": "code",
   "execution_count": 10,
   "metadata": {
    "collapsed": true
   },
   "outputs": [],
   "source": [
    "from input_process import read_images\n",
    "from train import run_params\n",
    "import pickle\n",
    "import numpy as np\n",
    "import random\n",
    "\n",
    "size = (116, 116) # resize images\n",
    "\n",
    "pkl_file = open('../fnames_collection_2', 'r')\n",
    "fnames = pkl_file.readline()\n",
    "fnames = fnames.split(' ')\n",
    "for i in range (0,len(fnames)):\n",
    "\tfnames[i] = str(fnames[i])\n",
    "\tfnames[i] = 'image' + fnames[i] + '.png'\n",
    "\n",
    "'''\n",
    "index = fnames[1:4000]\n",
    "random.shuffle(index)\n",
    "train_index = index[0:4000]\n",
    "test_index = fnames[4000:4200]\n",
    "'''\n",
    "train_index = fnames[0:5]\n",
    "test_index = fnames[10:15]\n",
    "\n",
    "\n",
    "\n",
    "label_path = '../NewPNGlabeled/'\n",
    "ori_path = '../JpegOriginalImg/'\n",
    "\n",
    "train_input, train_label = read_images(label_path, ori_path, train_index, size)\n",
    "test_input, test_label = read_images(label_path, ori_path, test_index, size)"
   ]
  },
  {
   "cell_type": "code",
   "execution_count": null,
   "metadata": {
    "collapsed": true,
    "deletable": true,
    "editable": true
   },
   "outputs": [],
   "source": [
    "def gabor_filter(x,y,params):\n",
    "    f,gamma,sigma,theta,psi = params\n",
    "    xt = x*math.cos(theta) + y*math.sin(theta)\n",
    "    yt = -x*math.sin(theta) + y*math.cos(theta)\n",
    "    z1 = -(xt**2 + (gamma*yt)**2)/(2*sigma**2)\n",
    "    z2 = 2*math.pi*f*xt+psi\n",
    "    value = f**2/(math.pi*gamma)*math.exp(z1)*math.cos(z2)\n",
    "    return value\n",
    "\n",
    "def gabor_filter_dev(x,y,params):\n",
    "    f,gamma,sigma,theta,psi = params\n",
    "    z2 = psi\n",
    "    value = f**2/(math.pi*gamma)*math.cos(z2)\n",
    "    return value\n",
    "\n",
    "\n",
    "def g_psi(x,y,params):\n",
    "    f,gamma,sigma,theta,psi = params\n",
    "    value = gabor_filter_dev(x,y,params)  \n",
    "    return value\n",
    "\n",
    "def gabor_filter_update_dev(size, params, f):\n",
    "    bond = math.floor(size/2)\n",
    "    x_range = np.linspace(-bond, bond, size)\n",
    "    y_range = np.linspace(-bond, bond, size)\n",
    "\n",
    "    [x_range,y_range] = list(map(lambda x:x.reshape(1,-1),np.meshgrid(x_range,y_range)))\n",
    "    gfilter = []\n",
    "    updates = []\n",
    "    for (x,y) in zip(np.ndarray.tolist(x_range)[0], np.ndarray.tolist(y_range)[0]):        \n",
    "        update = f(x,y,params)\n",
    "        updates.append(update.real)\n",
    "    updates = np.array(updates, dtype=np.float32).reshape(size,-1)\n",
    "    return updates\n",
    "\n",
    "\n",
    "def g_updates_dev(loss, params, gs):\n",
    "    # Calculate gradients: 0.05\n",
    "    gs_gradients = []\n",
    "    gradients = nn.updates.get_or_compute_grads(loss, params)\n",
    "    \n",
    "    for w_index in range (0, int(len(params)/2)):\n",
    "        # First Loop\n",
    "        print(w_index)\n",
    "        \n",
    "        ws = params[w_index*2]\n",
    "        g_params = gs[w_index].get_value()\n",
    "        ws_gradients = gradients[w_index*2]\n",
    "\n",
    "        [num_filters, num_channels, filter_size, filter_size] = ws.get_value().shape\n",
    "        \n",
    "        position = math.floor(filter_size/2)\n",
    "        ws_grad = gradients[0][:,:,position:position+1,position]\n",
    "        #g_gradient = g_psi(0,0,g)\n",
    "\n",
    "        # Second and third Loop\n",
    "        additions = []\n",
    "        for i in range (0, num_filters):\n",
    "            for j in range (0, num_channels):\n",
    "                g = g_params[i,j,:]\n",
    "\n",
    "                additions.append(g_psi(0,0,g))\n",
    "                \n",
    "                #addition = gabor_filter_update_dev(filter_size, g, g_psi)\t# need adjustment\n",
    "                \n",
    "                \n",
    "                #a = (w_gradient*addition).sum()\n",
    "                #psi_gradient = a/9\n",
    "                #g_gradient = np.array([0,0,0,0,psi_gradient.eval()]).reshape(1,-1)\t\t# need adjustment\t\t\t\t\n",
    "                #g_gradients = np.concatenate((g_gradients,g_gradient),axis=1)\n",
    "                \n",
    "                #a = sum(sum(w_gradient*addition))\n",
    "                #a = (w_gradient*addition).sum()\n",
    "                #psi_gradient = a/9\n",
    "                #g_gradient = np.array([update*0,update*0,update*0,update*0,update]).reshape(1,-1)\n",
    "                #g_gradient = np.array([0,0,0,0,psi_gradient]).reshape(1,-1)\n",
    "                #g_gradients = np.concatenate((g_gradients,g_gradient),axis=1)\n",
    "\n",
    "        additions =  np.array(additions, dtype=np.float32).reshape(num_filters,num_channels,-1)\n",
    "        g_gradients = theano.tensor.concatenate([ws_grad*0, ws_grad*0, ws_grad*0, ws_grad*0, ws_grad*0], axis=2)*additions\n",
    "        print(additions.dtype)\n",
    "        gs_gradients.append(g_gradients)\n",
    "        \n",
    "    gs_updates = nn.updates.adam_dev(gs_gradients, gs)\n",
    "    return gs_updates"
   ]
  },
  {
   "cell_type": "code",
   "execution_count": null,
   "metadata": {
    "collapsed": false,
    "deletable": true,
    "editable": true
   },
   "outputs": [],
   "source": [
    "start = timeit.default_timer()\n",
    "gs_updates = g_updates_dev(loss, params, gs)\n",
    "stop = timeit.default_timer()\n",
    "print(stop - start)"
   ]
  },
  {
   "cell_type": "code",
   "execution_count": null,
   "metadata": {
    "collapsed": false
   },
   "outputs": [],
   "source": [
    "from collections import OrderedDict\n",
    "updates = OrderedDict()\n",
    "updates_old = nn.updates.adam(loss, params, learning_rate=lr)\n",
    "for i in range (0,len(gs)):\n",
    "    print(i)\n",
    "    gs_new = gs_updates[gs[0]]\n",
    "    ws = params[i*2]\n",
    "    [num_filters, num_channels, filter_size, filter_size] = ws.get_value().shape\n",
    "    W = gabor_weight_update([num_filters, num_channels, filter_size, filter_size], gs_new)\n",
    "    #updates[ws] = theano.shared(W)\n",
    "    updates[ws] = W\n",
    "    updates[params[i*2+1]] = updates_old[params[i*2+1]]\n"
   ]
  },
  {
   "cell_type": "code",
   "execution_count": null,
   "metadata": {
    "collapsed": false
   },
   "outputs": [],
   "source": [
    "updates[params[0]].dtype"
   ]
  },
  {
   "cell_type": "code",
   "execution_count": null,
   "metadata": {
    "collapsed": false,
    "deletable": true,
    "editable": true
   },
   "outputs": [],
   "source": [
    "start = timeit.default_timer()\n",
    "w_index = 0\n",
    "ws = params[w_index*2]\n",
    "g_params = gs[w_index].get_value()\n",
    "ws_gradients = gradients[w_index*2]\n",
    "\n",
    "[num_filters, num_channels, filter_size, filter_size] = ws.get_value().shape\n",
    "\n",
    "g_gradients = np.array([], dtype=np.float32).reshape(1,-1)\n",
    "\n",
    "i = 0\n",
    "j = 0\n",
    "g = g_params[i,j,:]\n",
    "w = ws[i,j,:,:]\n",
    "\n",
    "w_gradient = ws_gradients[i,j,:]\n",
    "\n",
    "addition = gabor_filter_update_dev(filter_size, g, g_psi)\t# need adjustment\n",
    "stop = timeit.default_timer()\n",
    "print stop - start "
   ]
  },
  {
   "cell_type": "code",
   "execution_count": null,
   "metadata": {
    "collapsed": false,
    "deletable": true,
    "editable": true
   },
   "outputs": [],
   "source": [
    "gradients = nn.updates.get_or_compute_grads(loss, params)\n",
    "ws_gradients = gradients[0]\n",
    "ws_gradients[0,0,1,1]\n",
    "theano.shared(ws_gradients)"
   ]
  },
  {
   "cell_type": "code",
   "execution_count": null,
   "metadata": {
    "collapsed": true,
    "deletable": true,
    "editable": true
   },
   "outputs": [],
   "source": [
    "def gabor_filter_dev2(x,y,params):\n",
    "    f,gamma,sigma,theta,psi = params\n",
    "    xt = x*theano.tensor.cos(theta) + y*theano.tensor.sin(theta)\n",
    "    yt = -x*theano.tensor.sin(theta) + y*theano.tensor.cos(theta)\n",
    "    z1 = -(xt**2 + (gamma*yt)**2)/(2*sigma**2)\n",
    "    z2 = 2*math.pi*f*xt+psi\n",
    "    #z2 = 1j*2*math.pi*f*xt+psi\n",
    "    value = f**2/(math.pi*gamma)*theano.tensor.exp(z1)*theano.tensor.cos(z2)\n",
    "    return value\n",
    "\n",
    "def gabor_filter_1(x,y,params):\n",
    "    f,gamma,sigma,theta,psi = params\n",
    "    xt = x*math.cos(theta) + y*math.sin(theta)\n",
    "    yt = -x*math.sin(theta) + y*math.cos(theta)\n",
    "    z1 = -(xt**2 + (gamma*yt)**2)/(2*sigma**2)\n",
    "    z2 = 1j*2*math.pi*f*xt+psi*1j\n",
    "    value = f**2/(math.pi*gamma)*math.exp(z1)*cmath.exp(z2)\n",
    "    return value\n",
    "\n",
    "def gabor_filter_2(x,y,params):\n",
    "    f,gamma,sigma,theta,psi = params\n",
    "    xt = x*math.cos(theta) + y*math.sin(theta)\n",
    "    yt = -x*math.sin(theta) + y*math.cos(theta)\n",
    "    z1 = -(xt**2 + (gamma*yt)**2)/(2*sigma**2)\n",
    "    z2 = 2*math.pi*f*xt+psi\n",
    "    value = f**2/(math.pi*gamma)*math.exp(z1)*math.cos(z2)\n",
    "    return value"
   ]
  },
  {
   "cell_type": "code",
   "execution_count": null,
   "metadata": {
    "collapsed": false,
    "deletable": true,
    "editable": true
   },
   "outputs": [],
   "source": [
    "w_gradients = np.ones([4,4,5])\n",
    "trys = theano.shared(w_gradients)\n",
    "#trys.eval()\n",
    "g_try = gs_updates[gs[0]]\n",
    "#a = gs[0][0,0,1]\n",
    "a = g_try[0,0][1]\n",
    "params = [a,a,a,a,a]\n",
    "#filter_ps = [gabor_filter(0,0,params),gabor_filter(0,0,params),gabor_filter(0,0,params),gabor_filter(0,0,params)]\n",
    "#np.array(filter_ps)\n",
    "x = gabor_filter_dev2(0,0,params)\n",
    "lis = []\n",
    "for i in range(0,9):\n",
    "    lis.append(x)\n",
    "y = theano.tensor.stack(lis)\n",
    "y = y.reshape((3,3))\n",
    "y.dtype"
   ]
  },
  {
   "cell_type": "code",
   "execution_count": null,
   "metadata": {
    "collapsed": false,
    "deletable": true,
    "editable": true
   },
   "outputs": [],
   "source": [
    "g_try = gs_updates[gs[0]]\n",
    "updates\n",
    "g_try.dtype"
   ]
  },
  {
   "cell_type": "code",
   "execution_count": 9,
   "metadata": {
    "collapsed": false,
    "deletable": true,
    "editable": true
   },
   "outputs": [
    {
     "data": {
      "text/plain": [
       "odict_keys([<TensorType(float32, (False, True, False))>, <TensorType(float32, (False, True, False))>, g, <TensorType(float32, (True, False, False))>, <TensorType(float32, (True, False, False))>, g, <TensorType(float32, scalar)>])"
      ]
     },
     "execution_count": 9,
     "metadata": {},
     "output_type": "execute_result"
    }
   ],
   "source": [
    "gs_updates.keys()"
   ]
  },
  {
   "cell_type": "code",
   "execution_count": null,
   "metadata": {
    "collapsed": false
   },
   "outputs": [],
   "source": [
    "updates_old = nn.updates.adam(loss, params, learning_rate=lr)\n",
    "updates_old[params[0]].dtype"
   ]
  },
  {
   "cell_type": "code",
   "execution_count": null,
   "metadata": {
    "collapsed": false
   },
   "outputs": [],
   "source": [
    "gvalue = gs[0].get_value()\n",
    "g = gvalue[0,0,:]\n",
    "g_psi(0,0,g)\n"
   ]
  }
 ],
 "metadata": {
  "kernelspec": {
   "display_name": "Python 3",
   "language": "python",
   "name": "python3"
  },
  "language_info": {
   "codemirror_mode": {
    "name": "ipython",
    "version": 3
   },
   "file_extension": ".py",
   "mimetype": "text/x-python",
   "name": "python",
   "nbconvert_exporter": "python",
   "pygments_lexer": "ipython3",
   "version": "3.5.0"
  }
 },
 "nbformat": 4,
 "nbformat_minor": 2
}
