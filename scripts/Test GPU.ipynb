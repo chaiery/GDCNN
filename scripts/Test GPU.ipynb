{
 "cells": [
  {
   "cell_type": "code",
   "execution_count": 3,
   "metadata": {
    "collapsed": false,
    "deletable": true,
    "editable": true
   },
   "outputs": [],
   "source": [
    "from theano import tensor as T\n",
    "import lasagne_dev as nn\n",
    "import numpy as np\n",
    "import pickle\n",
    "from input_process import read_images\n",
    "import random\n",
    "import math\n",
    "import cmath\n",
    "from g_gradient import *\n",
    "import timeit\n",
    "import unet\n",
    "from collections import OrderedDict"
   ]
  },
  {
   "cell_type": "code",
   "execution_count": 4,
   "metadata": {
    "collapsed": false,
    "deletable": true,
    "editable": true
   },
   "outputs": [
    {
     "name": "stdout",
     "output_type": "stream",
     "text": [
      "0\n",
      "1\n",
      "34.623052729002666\n"
     ]
    }
   ],
   "source": [
    "start = timeit.default_timer()\n",
    "epoch = 1\n",
    "\n",
    "input_var = T.tensor4('input_var')  \n",
    "label_var = T.tensor4('label_var')\n",
    "\n",
    "[network, loss, test_loss, test_acc, output_det] = unet.network(input_var, label_var, [5,1,116,116])\n",
    "\n",
    "\n",
    "params = nn.layers.get_all_params(network)\n",
    "lr = theano.shared(nn.utils.floatX(1e-4)) # learning rate\n",
    "updates = nn.updates.adam(loss,params, learning_rate=lr) # adam most widely used update scheme\n",
    "#updates = nn.updates.momentum(loss,params, learning_rate=lr,momentum=0.99)\n",
    "gs = nn.layers.get_all_gs(network)\n",
    "gs_updates = g_updates(loss, params, gs)\n",
    "#value = [gs_updates[gs[i]].get_value() for i in range (0,len(gs))]\n",
    "\n",
    "## generate updates for params\n",
    "updates = OrderedDict()\n",
    "updates_old = nn.updates.adam(loss, params, learning_rate=lr)\n",
    "for i in range (0,len(gs)):\n",
    "    print(i)\n",
    "    gs_new = gs_updates[gs[0]]\n",
    "    ws = params[i*2]\n",
    "    [num_filters, num_channels, filter_size, filter_size] = ws.get_value().shape\n",
    "    W = gabor_weight_update([num_filters, num_channels, filter_size, filter_size], gs_new)\n",
    "    #updates[ws] = theano.shared(W)\n",
    "    updates[ws] = W\n",
    "    updates[params[i*2+1]] = updates_old[params[i*2+1]]\n",
    "stop = timeit.default_timer()\n",
    "print(stop - start)"
   ]
  },
  {
   "cell_type": "code",
   "execution_count": 6,
   "metadata": {
    "collapsed": false
   },
   "outputs": [
    {
     "data": {
      "text/plain": [
       "array([[[[  2.22021263e-04,   2.00140476e-02,  -4.54649106e-02,\n",
       "           -2.91743153e-03,   8.29928275e-03],\n",
       "         [ -9.92294401e-03,   6.31200001e-02,   9.45584010e-03,\n",
       "           -8.68885666e-02,   1.50378114e-02],\n",
       "         [ -1.82489287e-02,  -6.18675351e-03,   1.89440861e-01,\n",
       "           -9.18376446e-02,  -4.11393493e-03],\n",
       "         [  8.04915500e-04,  -8.60147700e-02,   1.16794311e-01,\n",
       "            1.35133583e-02,  -1.11843767e-02],\n",
       "         [  8.13317392e-03,  -3.09306495e-02,  -9.21082869e-03,\n",
       "            2.23270468e-02,  -2.29520863e-03]]],\n",
       "\n",
       "\n",
       "       [[[ -8.93696249e-02,  -2.36753643e-01,  -4.28007185e-01,\n",
       "           -5.28120816e-01,  -4.44849938e-01],\n",
       "         [  7.13057742e-02,   1.67325482e-01,   2.65877694e-01,\n",
       "            2.86568016e-01,   2.09780470e-01],\n",
       "         [  3.00282985e-02,   3.16271931e-02,   1.22806188e-02,\n",
       "           -1.13184070e-02,  -1.85471587e-02],\n",
       "         [ -2.24580109e-01,  -3.08535606e-01,  -2.88170844e-01,\n",
       "           -1.82792887e-01,  -7.86428750e-02],\n",
       "         [  4.60504621e-01,   5.47631085e-01,   4.44629997e-01,\n",
       "            2.46435821e-01,   9.32250693e-02]]],\n",
       "\n",
       "\n",
       "       [[[ -3.46467508e-20,  -4.23157308e-11,   6.61283366e-08,\n",
       "           -1.43337520e-09,   4.79423189e-16],\n",
       "         [ -1.14894422e-13,  -3.87672429e-07,   1.33521133e-03,\n",
       "           -1.98324997e-05,   4.26904952e-12],\n",
       "         [ -2.62053417e-11,   1.23185440e-04,   1.18773123e-02,\n",
       "           -2.16606990e-04,   3.10456938e-11],\n",
       "         [ -4.27181467e-12,   1.60505351e-05,  -6.53836236e-04,\n",
       "           -1.32974833e-06,   1.81620927e-13],\n",
       "         [ -5.68902162e-16,   1.38923972e-09,  -5.10366753e-08,\n",
       "            1.63955238e-11,   6.83623262e-19]]],\n",
       "\n",
       "\n",
       "       ..., \n",
       "       [[[ -2.07965121e-01,   7.40613695e-03,   3.30329061e-01,\n",
       "           -3.95204723e-01,   1.75774217e-01],\n",
       "         [  2.91359812e-01,   5.68195060e-02,  -5.87391317e-01,\n",
       "            6.48515582e-01,  -2.63707519e-01],\n",
       "         [ -2.88897693e-01,  -1.43889412e-01,   7.44492948e-01,\n",
       "           -7.63990760e-01,   2.79625088e-01],\n",
       "         [  2.01201707e-01,   1.84641749e-01,  -6.74278855e-01,\n",
       "            6.45932138e-01,  -2.07797661e-01],\n",
       "         [ -9.71623585e-02,  -1.49874091e-01,   4.37146813e-01,\n",
       "           -3.91713947e-01,   1.06650345e-01]]],\n",
       "\n",
       "\n",
       "       [[[ -2.13431883e+00,   1.15544498e+00,   2.57907915e+00,\n",
       "           -1.60874724e+00,  -5.64043403e-01],\n",
       "         [  1.96047080e+00,  -2.42050409e-01,  -3.23625255e+00,\n",
       "            1.27653337e+00,   1.05262911e+00],\n",
       "         [ -1.55172312e+00,  -6.49591506e-01,   3.47409916e+00,\n",
       "           -6.03025436e-01,  -1.56352437e+00],\n",
       "         [  1.03710854e+00,   1.31354880e+00,  -3.21970773e+00,\n",
       "           -2.92384714e-01,   1.96467233e+00],\n",
       "         [ -5.48518896e-01,  -1.63333285e+00,   2.54993391e+00,\n",
       "            1.20238185e+00,  -2.12820792e+00]]],\n",
       "\n",
       "\n",
       "       [[[ -0.00000000e+00,  -2.80259693e-45,  -1.24313171e-32,\n",
       "           -9.07842841e-39,  -0.00000000e+00],\n",
       "         [  0.00000000e+00,   6.15234903e-20,   3.51986262e-09,\n",
       "            1.87114756e-17,  -4.97460955e-43],\n",
       "         [ -3.70561552e-38,  -1.63107625e-10,  -1.01245776e-01,\n",
       "            7.17794157e-11,   3.16296745e-38],\n",
       "         [  9.10844002e-43,   5.19372248e-17,  -1.08886489e-09,\n",
       "           -4.77654120e-20,  -0.00000000e+00],\n",
       "         [ -0.00000000e+00,   1.25189623e-39,   8.66247354e-33,\n",
       "            4.20389539e-45,   0.00000000e+00]]]], dtype=float32)"
      ]
     },
     "execution_count": 6,
     "metadata": {},
     "output_type": "execute_result"
    }
   ],
   "source": [
    "params[0].get_value()"
   ]
  },
  {
   "cell_type": "code",
   "execution_count": 5,
   "metadata": {
    "collapsed": false
   },
   "outputs": [
    {
     "ename": "KeyboardInterrupt",
     "evalue": "",
     "output_type": "error",
     "traceback": [
      "\u001b[0;31m---------------------------------------------------------------------------\u001b[0m",
      "\u001b[0;31mKeyboardInterrupt\u001b[0m                         Traceback (most recent call last)",
      "\u001b[0;32m<ipython-input-5-df70a60e9a5e>\u001b[0m in \u001b[0;36m<module>\u001b[0;34m()\u001b[0m\n\u001b[1;32m      1\u001b[0m \u001b[0mstart\u001b[0m \u001b[0;34m=\u001b[0m \u001b[0mtimeit\u001b[0m\u001b[0;34m.\u001b[0m\u001b[0mdefault_timer\u001b[0m\u001b[0;34m(\u001b[0m\u001b[0;34m)\u001b[0m\u001b[0;34m\u001b[0m\u001b[0m\n\u001b[0;32m----> 2\u001b[0;31m \u001b[0mtrain_fn\u001b[0m \u001b[0;34m=\u001b[0m \u001b[0mtheano\u001b[0m\u001b[0;34m.\u001b[0m\u001b[0mfunction\u001b[0m\u001b[0;34m(\u001b[0m\u001b[0;34m[\u001b[0m\u001b[0minput_var\u001b[0m\u001b[0;34m,\u001b[0m \u001b[0mlabel_var\u001b[0m\u001b[0;34m]\u001b[0m\u001b[0;34m,\u001b[0m \u001b[0mloss\u001b[0m\u001b[0;34m,\u001b[0m \u001b[0mupdates\u001b[0m\u001b[0;34m=\u001b[0m\u001b[0mupdates\u001b[0m\u001b[0;34m,\u001b[0m \u001b[0mallow_input_downcast\u001b[0m\u001b[0;34m=\u001b[0m\u001b[0;32mTrue\u001b[0m\u001b[0;34m)\u001b[0m \u001b[0;31m#update weights, #allow_input_downcast for running 32-bit theano on 64-bit machine, might not need\u001b[0m\u001b[0;34m\u001b[0m\u001b[0m\n\u001b[0m\u001b[1;32m      3\u001b[0m \u001b[0mstop\u001b[0m \u001b[0;34m=\u001b[0m \u001b[0mtimeit\u001b[0m\u001b[0;34m.\u001b[0m\u001b[0mdefault_timer\u001b[0m\u001b[0;34m(\u001b[0m\u001b[0;34m)\u001b[0m\u001b[0;34m\u001b[0m\u001b[0m\n\u001b[1;32m      4\u001b[0m \u001b[0mprint\u001b[0m\u001b[0;34m(\u001b[0m\u001b[0mstop\u001b[0m \u001b[0;34m-\u001b[0m \u001b[0mstart\u001b[0m\u001b[0;34m)\u001b[0m\u001b[0;34m\u001b[0m\u001b[0m\n",
      "\u001b[0;32m/Users/apple/venvs/dl/lib/python3.5/site-packages/theano/compile/function.py\u001b[0m in \u001b[0;36mfunction\u001b[0;34m(inputs, outputs, mode, updates, givens, no_default_updates, accept_inplace, name, rebuild_strict, allow_input_downcast, profile, on_unused_input)\u001b[0m\n\u001b[1;32m    324\u001b[0m                    \u001b[0mon_unused_input\u001b[0m\u001b[0;34m=\u001b[0m\u001b[0mon_unused_input\u001b[0m\u001b[0;34m,\u001b[0m\u001b[0;34m\u001b[0m\u001b[0m\n\u001b[1;32m    325\u001b[0m                    \u001b[0mprofile\u001b[0m\u001b[0;34m=\u001b[0m\u001b[0mprofile\u001b[0m\u001b[0;34m,\u001b[0m\u001b[0;34m\u001b[0m\u001b[0m\n\u001b[0;32m--> 326\u001b[0;31m                    output_keys=output_keys)\n\u001b[0m\u001b[1;32m    327\u001b[0m     \u001b[0;31m# We need to add the flag check_aliased inputs if we have any mutable or\u001b[0m\u001b[0;34m\u001b[0m\u001b[0;34m\u001b[0m\u001b[0m\n\u001b[1;32m    328\u001b[0m     \u001b[0;31m# borrowed used defined inputs\u001b[0m\u001b[0;34m\u001b[0m\u001b[0;34m\u001b[0m\u001b[0m\n",
      "\u001b[0;32m/Users/apple/venvs/dl/lib/python3.5/site-packages/theano/compile/pfunc.py\u001b[0m in \u001b[0;36mpfunc\u001b[0;34m(params, outputs, mode, updates, givens, no_default_updates, accept_inplace, name, rebuild_strict, allow_input_downcast, profile, on_unused_input, output_keys)\u001b[0m\n\u001b[1;32m    484\u001b[0m                          \u001b[0maccept_inplace\u001b[0m\u001b[0;34m=\u001b[0m\u001b[0maccept_inplace\u001b[0m\u001b[0;34m,\u001b[0m \u001b[0mname\u001b[0m\u001b[0;34m=\u001b[0m\u001b[0mname\u001b[0m\u001b[0;34m,\u001b[0m\u001b[0;34m\u001b[0m\u001b[0m\n\u001b[1;32m    485\u001b[0m                          \u001b[0mprofile\u001b[0m\u001b[0;34m=\u001b[0m\u001b[0mprofile\u001b[0m\u001b[0;34m,\u001b[0m \u001b[0mon_unused_input\u001b[0m\u001b[0;34m=\u001b[0m\u001b[0mon_unused_input\u001b[0m\u001b[0;34m,\u001b[0m\u001b[0;34m\u001b[0m\u001b[0m\n\u001b[0;32m--> 486\u001b[0;31m                          output_keys=output_keys)\n\u001b[0m\u001b[1;32m    487\u001b[0m \u001b[0;34m\u001b[0m\u001b[0m\n\u001b[1;32m    488\u001b[0m \u001b[0;34m\u001b[0m\u001b[0m\n",
      "\u001b[0;32m/Users/apple/venvs/dl/lib/python3.5/site-packages/theano/compile/function_module.py\u001b[0m in \u001b[0;36morig_function\u001b[0;34m(inputs, outputs, mode, accept_inplace, name, profile, on_unused_input, output_keys)\u001b[0m\n\u001b[1;32m   1793\u001b[0m                    \u001b[0mon_unused_input\u001b[0m\u001b[0;34m=\u001b[0m\u001b[0mon_unused_input\u001b[0m\u001b[0;34m,\u001b[0m\u001b[0;34m\u001b[0m\u001b[0m\n\u001b[1;32m   1794\u001b[0m                    \u001b[0moutput_keys\u001b[0m\u001b[0;34m=\u001b[0m\u001b[0moutput_keys\u001b[0m\u001b[0;34m)\u001b[0m\u001b[0;34m.\u001b[0m\u001b[0mcreate\u001b[0m\u001b[0;34m(\u001b[0m\u001b[0;34m\u001b[0m\u001b[0m\n\u001b[0;32m-> 1795\u001b[0;31m             defaults)\n\u001b[0m\u001b[1;32m   1796\u001b[0m \u001b[0;34m\u001b[0m\u001b[0m\n\u001b[1;32m   1797\u001b[0m     \u001b[0mt2\u001b[0m \u001b[0;34m=\u001b[0m \u001b[0mtime\u001b[0m\u001b[0;34m.\u001b[0m\u001b[0mtime\u001b[0m\u001b[0;34m(\u001b[0m\u001b[0;34m)\u001b[0m\u001b[0;34m\u001b[0m\u001b[0m\n",
      "\u001b[0;32m/Users/apple/venvs/dl/lib/python3.5/site-packages/theano/compile/function_module.py\u001b[0m in \u001b[0;36mcreate\u001b[0;34m(self, input_storage, trustme, storage_map)\u001b[0m\n\u001b[1;32m   1659\u001b[0m             \u001b[0mtheano\u001b[0m\u001b[0;34m.\u001b[0m\u001b[0mconfig\u001b[0m\u001b[0;34m.\u001b[0m\u001b[0mtraceback\u001b[0m\u001b[0;34m.\u001b[0m\u001b[0mlimit\u001b[0m \u001b[0;34m=\u001b[0m \u001b[0mtheano\u001b[0m\u001b[0;34m.\u001b[0m\u001b[0mconfig\u001b[0m\u001b[0;34m.\u001b[0m\u001b[0mtraceback\u001b[0m\u001b[0;34m.\u001b[0m\u001b[0mcompile_limit\u001b[0m\u001b[0;34m\u001b[0m\u001b[0m\n\u001b[1;32m   1660\u001b[0m             _fn, _i, _o = self.linker.make_thunk(\n\u001b[0;32m-> 1661\u001b[0;31m                 input_storage=input_storage_lists, storage_map=storage_map)\n\u001b[0m\u001b[1;32m   1662\u001b[0m         \u001b[0;32mfinally\u001b[0m\u001b[0;34m:\u001b[0m\u001b[0;34m\u001b[0m\u001b[0m\n\u001b[1;32m   1663\u001b[0m             \u001b[0mtheano\u001b[0m\u001b[0;34m.\u001b[0m\u001b[0mconfig\u001b[0m\u001b[0;34m.\u001b[0m\u001b[0mtraceback\u001b[0m\u001b[0;34m.\u001b[0m\u001b[0mlimit\u001b[0m \u001b[0;34m=\u001b[0m \u001b[0mlimit_orig\u001b[0m\u001b[0;34m\u001b[0m\u001b[0m\n",
      "\u001b[0;32m/Users/apple/venvs/dl/lib/python3.5/site-packages/theano/gof/link.py\u001b[0m in \u001b[0;36mmake_thunk\u001b[0;34m(self, input_storage, output_storage, storage_map)\u001b[0m\n\u001b[1;32m    697\u001b[0m         return self.make_all(input_storage=input_storage,\n\u001b[1;32m    698\u001b[0m                              \u001b[0moutput_storage\u001b[0m\u001b[0;34m=\u001b[0m\u001b[0moutput_storage\u001b[0m\u001b[0;34m,\u001b[0m\u001b[0;34m\u001b[0m\u001b[0m\n\u001b[0;32m--> 699\u001b[0;31m                              storage_map=storage_map)[:3]\n\u001b[0m\u001b[1;32m    700\u001b[0m \u001b[0;34m\u001b[0m\u001b[0m\n\u001b[1;32m    701\u001b[0m     \u001b[0;32mdef\u001b[0m \u001b[0mmake_all\u001b[0m\u001b[0;34m(\u001b[0m\u001b[0mself\u001b[0m\u001b[0;34m,\u001b[0m \u001b[0minput_storage\u001b[0m\u001b[0;34m,\u001b[0m \u001b[0moutput_storage\u001b[0m\u001b[0;34m)\u001b[0m\u001b[0;34m:\u001b[0m\u001b[0;34m\u001b[0m\u001b[0m\n",
      "\u001b[0;32m/Users/apple/venvs/dl/lib/python3.5/site-packages/theano/gof/vm.py\u001b[0m in \u001b[0;36mmake_all\u001b[0;34m(self, profiler, input_storage, output_storage, storage_map)\u001b[0m\n\u001b[1;32m   1032\u001b[0m \u001b[0;34m\u001b[0m\u001b[0m\n\u001b[1;32m   1033\u001b[0m         reallocated_info = calculate_reallocate_info(\n\u001b[0;32m-> 1034\u001b[0;31m             order, fgraph, storage_map, compute_map_re, dependencies)\n\u001b[0m\u001b[1;32m   1035\u001b[0m         \u001b[0mt0\u001b[0m \u001b[0;34m=\u001b[0m \u001b[0mtime\u001b[0m\u001b[0;34m.\u001b[0m\u001b[0mtime\u001b[0m\u001b[0;34m(\u001b[0m\u001b[0;34m)\u001b[0m\u001b[0;34m\u001b[0m\u001b[0m\n\u001b[1;32m   1036\u001b[0m         \u001b[0mlinker_make_thunk_time\u001b[0m \u001b[0;34m=\u001b[0m \u001b[0;34m{\u001b[0m\u001b[0;34m}\u001b[0m\u001b[0;34m\u001b[0m\u001b[0m\n",
      "\u001b[0;32m/Users/apple/venvs/dl/lib/python3.5/site-packages/theano/gof/vm.py\u001b[0m in \u001b[0;36mcalculate_reallocate_info\u001b[0;34m(order, fgraph, storage_map, compute_map_re, dependencies)\u001b[0m\n\u001b[1;32m     82\u001b[0m                             \u001b[0;32mbreak\u001b[0m\u001b[0;34m\u001b[0m\u001b[0m\n\u001b[1;32m     83\u001b[0m                         \u001b[0;32mfor\u001b[0m \u001b[0mout\u001b[0m \u001b[0;32min\u001b[0m \u001b[0morder\u001b[0m\u001b[0;34m[\u001b[0m\u001b[0mi\u001b[0m\u001b[0;34m]\u001b[0m\u001b[0;34m.\u001b[0m\u001b[0moutputs\u001b[0m\u001b[0;34m:\u001b[0m\u001b[0;34m\u001b[0m\u001b[0m\n\u001b[0;32m---> 84\u001b[0;31m                             if (getattr(out, 'ndim', None) == 0 and\n\u001b[0m\u001b[1;32m     85\u001b[0m                                     \u001b[0mout\u001b[0m \u001b[0;32mnot\u001b[0m \u001b[0;32min\u001b[0m \u001b[0mpre_allocated\u001b[0m \u001b[0;32mand\u001b[0m\u001b[0;34m\u001b[0m\u001b[0m\n\u001b[1;32m     86\u001b[0m                                     ins.type == out.type):\n",
      "\u001b[0;32m/Users/apple/venvs/dl/lib/python3.5/site-packages/theano/tensor/var.py\u001b[0m in \u001b[0;36m<lambda>\u001b[0;34m(self)\u001b[0m\n\u001b[1;32m    603\u001b[0m \u001b[0;34m\u001b[0m\u001b[0m\n\u001b[1;32m    604\u001b[0m     \u001b[0;31m# CONVENIENT ACCESS TO TYPE PROPERTIES\u001b[0m\u001b[0;34m\u001b[0m\u001b[0;34m\u001b[0m\u001b[0m\n\u001b[0;32m--> 605\u001b[0;31m     \u001b[0mndim\u001b[0m \u001b[0;34m=\u001b[0m \u001b[0mproperty\u001b[0m\u001b[0;34m(\u001b[0m\u001b[0;32mlambda\u001b[0m \u001b[0mself\u001b[0m\u001b[0;34m:\u001b[0m \u001b[0mself\u001b[0m\u001b[0;34m.\u001b[0m\u001b[0mtype\u001b[0m\u001b[0;34m.\u001b[0m\u001b[0mndim\u001b[0m\u001b[0;34m)\u001b[0m\u001b[0;34m\u001b[0m\u001b[0m\n\u001b[0m\u001b[1;32m    606\u001b[0m     \u001b[0;34m\"\"\"The rank of this tensor.\"\"\"\u001b[0m\u001b[0;34m\u001b[0m\u001b[0m\n\u001b[1;32m    607\u001b[0m \u001b[0;34m\u001b[0m\u001b[0m\n",
      "\u001b[0;32m/Users/apple/venvs/dl/lib/python3.5/site-packages/theano/tensor/type.py\u001b[0m in \u001b[0;36m<lambda>\u001b[0;34m(self)\u001b[0m\n\u001b[1;32m    330\u001b[0m         \u001b[0;32mreturn\u001b[0m \u001b[0mhashtype\u001b[0m\u001b[0;34m(\u001b[0m\u001b[0mself\u001b[0m\u001b[0;34m)\u001b[0m \u001b[0;34m^\u001b[0m \u001b[0mhash\u001b[0m\u001b[0;34m(\u001b[0m\u001b[0mself\u001b[0m\u001b[0;34m.\u001b[0m\u001b[0mdtype\u001b[0m\u001b[0;34m)\u001b[0m \u001b[0;34m^\u001b[0m \u001b[0mhash\u001b[0m\u001b[0;34m(\u001b[0m\u001b[0mself\u001b[0m\u001b[0;34m.\u001b[0m\u001b[0mbroadcastable\u001b[0m\u001b[0;34m)\u001b[0m\u001b[0;34m\u001b[0m\u001b[0m\n\u001b[1;32m    331\u001b[0m \u001b[0;34m\u001b[0m\u001b[0m\n\u001b[0;32m--> 332\u001b[0;31m     ndim = property(lambda self: len(self.broadcastable),\n\u001b[0m\u001b[1;32m    333\u001b[0m                     doc=\"number of dimensions\")\n\u001b[1;32m    334\u001b[0m     \"\"\"\n",
      "\u001b[0;31mKeyboardInterrupt\u001b[0m: "
     ]
    }
   ],
   "source": [
    "start = timeit.default_timer()\n",
    "train_fn = theano.function([input_var, label_var], loss, updates=updates, allow_input_downcast=True) #update weights, #allow_input_downcast for running 32-bit theano on 64-bit machine, might not need\n",
    "stop = timeit.default_timer()\n",
    "print(stop - start)\n"
   ]
  },
  {
   "cell_type": "code",
   "execution_count": null,
   "metadata": {
    "collapsed": false
   },
   "outputs": [],
   "source": [
    "gs[0][0,0,:].eval()"
   ]
  },
  {
   "cell_type": "code",
   "execution_count": null,
   "metadata": {
    "collapsed": true,
    "deletable": true,
    "editable": true
   },
   "outputs": [],
   "source": [
    "def gabor_filter(x,y,params):\n",
    "    f,gamma,sigma,theta,psi = params\n",
    "    xt = x*math.cos(theta) + y*math.sin(theta)\n",
    "    yt = -x*math.sin(theta) + y*math.cos(theta)\n",
    "    z1 = -(xt**2 + (gamma*yt)**2)/(2*sigma**2)\n",
    "    z2 = 2*math.pi*f*xt+psi\n",
    "    value = f**2/(math.pi*gamma)*math.exp(z1)*math.cos(z2)\n",
    "    return value\n",
    "\n",
    "def gabor_filter_dev(x,y,params):\n",
    "    f,gamma,sigma,theta,psi = params\n",
    "    z2 = psi\n",
    "    value = f**2/(math.pi*gamma)*math.cos(z2)\n",
    "    return value\n",
    "\n",
    "\n",
    "def g_psi(x,y,params):\n",
    "    f,gamma,sigma,theta,psi = params\n",
    "    value = gabor_filter_dev(x,y,params)  \n",
    "    return value\n",
    "\n",
    "def gabor_filter_update_dev(size, params, f):\n",
    "    bond = math.floor(size/2)\n",
    "    x_range = np.linspace(-bond, bond, size)\n",
    "    y_range = np.linspace(-bond, bond, size)\n",
    "\n",
    "    [x_range,y_range] = list(map(lambda x:x.reshape(1,-1),np.meshgrid(x_range,y_range)))\n",
    "    gfilter = []\n",
    "    updates = []\n",
    "    for (x,y) in zip(np.ndarray.tolist(x_range)[0], np.ndarray.tolist(y_range)[0]):        \n",
    "        update = f(x,y,params)\n",
    "        updates.append(update.real)\n",
    "    updates = np.array(updates, dtype=np.float32).reshape(size,-1)\n",
    "    return updates\n",
    "\n",
    "\n",
    "def g_updates_dev(loss, params, gs):\n",
    "    # Calculate gradients: 0.05\n",
    "    gs_gradients = []\n",
    "    gradients = nn.updates.get_or_compute_grads(loss, params)\n",
    "    \n",
    "    for w_index in range (0, int(len(params)/2)):\n",
    "        # First Loop\n",
    "        print(w_index)\n",
    "        \n",
    "        ws = params[w_index*2]\n",
    "        g_params = gs[w_index].get_value()\n",
    "        ws_gradients = gradients[w_index*2]\n",
    "\n",
    "        [num_filters, num_channels, filter_size, filter_size] = ws.get_value().shape\n",
    "        \n",
    "        position = math.floor(filter_size/2)\n",
    "        ws_grad = gradients[0][:,:,position:position+1,position]\n",
    "        #g_gradient = g_psi(0,0,g)\n",
    "\n",
    "        # Second and third Loop\n",
    "        additions = []\n",
    "        for i in range (0, num_filters):\n",
    "            for j in range (0, num_channels):\n",
    "                g = g_params[i,j,:]\n",
    "\n",
    "                additions.append(g_psi(0,0,g))\n",
    "                \n",
    "                #addition = gabor_filter_update_dev(filter_size, g, g_psi)\t# need adjustment\n",
    "                \n",
    "                \n",
    "                #a = (w_gradient*addition).sum()\n",
    "                #psi_gradient = a/9\n",
    "                #g_gradient = np.array([0,0,0,0,psi_gradient.eval()]).reshape(1,-1)\t\t# need adjustment\t\t\t\t\n",
    "                #g_gradients = np.concatenate((g_gradients,g_gradient),axis=1)\n",
    "                \n",
    "                #a = sum(sum(w_gradient*addition))\n",
    "                #a = (w_gradient*addition).sum()\n",
    "                #psi_gradient = a/9\n",
    "                #g_gradient = np.array([update*0,update*0,update*0,update*0,update]).reshape(1,-1)\n",
    "                #g_gradient = np.array([0,0,0,0,psi_gradient]).reshape(1,-1)\n",
    "                #g_gradients = np.concatenate((g_gradients,g_gradient),axis=1)\n",
    "\n",
    "        additions =  np.array(additions, dtype=np.float32).reshape(num_filters,num_channels,-1)\n",
    "        g_gradients = theano.tensor.concatenate([ws_grad*0, ws_grad*0, ws_grad*0, ws_grad*0, ws_grad*0], axis=2)*additions\n",
    "        print(additions.dtype)\n",
    "        gs_gradients.append(g_gradients)\n",
    "        \n",
    "    gs_updates = nn.updates.adam_dev(gs_gradients, gs)\n",
    "    return gs_updates"
   ]
  },
  {
   "cell_type": "code",
   "execution_count": null,
   "metadata": {
    "collapsed": false,
    "deletable": true,
    "editable": true
   },
   "outputs": [],
   "source": [
    "start = timeit.default_timer()\n",
    "gs_updates = g_updates_dev(loss, params, gs)\n",
    "stop = timeit.default_timer()\n",
    "print(stop - start)"
   ]
  },
  {
   "cell_type": "code",
   "execution_count": null,
   "metadata": {
    "collapsed": false
   },
   "outputs": [],
   "source": [
    "from collections import OrderedDict\n",
    "updates = OrderedDict()\n",
    "updates_old = nn.updates.adam(loss, params, learning_rate=lr)\n",
    "for i in range (0,len(gs)):\n",
    "    print(i)\n",
    "    gs_new = gs_updates[gs[0]]\n",
    "    ws = params[i*2]\n",
    "    [num_filters, num_channels, filter_size, filter_size] = ws.get_value().shape\n",
    "    W = gabor_weight_update([num_filters, num_channels, filter_size, filter_size], gs_new)\n",
    "    #updates[ws] = theano.shared(W)\n",
    "    updates[ws] = W\n",
    "    updates[params[i*2+1]] = updates_old[params[i*2+1]]\n"
   ]
  },
  {
   "cell_type": "code",
   "execution_count": null,
   "metadata": {
    "collapsed": false
   },
   "outputs": [],
   "source": [
    "updates[params[0]].dtype"
   ]
  },
  {
   "cell_type": "code",
   "execution_count": null,
   "metadata": {
    "collapsed": false,
    "deletable": true,
    "editable": true
   },
   "outputs": [],
   "source": [
    "start = timeit.default_timer()\n",
    "w_index = 0\n",
    "ws = params[w_index*2]\n",
    "g_params = gs[w_index].get_value()\n",
    "ws_gradients = gradients[w_index*2]\n",
    "\n",
    "[num_filters, num_channels, filter_size, filter_size] = ws.get_value().shape\n",
    "\n",
    "g_gradients = np.array([], dtype=np.float32).reshape(1,-1)\n",
    "\n",
    "i = 0\n",
    "j = 0\n",
    "g = g_params[i,j,:]\n",
    "w = ws[i,j,:,:]\n",
    "\n",
    "w_gradient = ws_gradients[i,j,:]\n",
    "\n",
    "addition = gabor_filter_update_dev(filter_size, g, g_psi)\t# need adjustment\n",
    "stop = timeit.default_timer()\n",
    "print stop - start "
   ]
  },
  {
   "cell_type": "code",
   "execution_count": null,
   "metadata": {
    "collapsed": false,
    "deletable": true,
    "editable": true
   },
   "outputs": [],
   "source": [
    "gradients = nn.updates.get_or_compute_grads(loss, params)\n",
    "ws_gradients = gradients[0]\n",
    "ws_gradients[0,0,1,1]\n",
    "theano.shared(ws_gradients)"
   ]
  },
  {
   "cell_type": "code",
   "execution_count": null,
   "metadata": {
    "collapsed": true,
    "deletable": true,
    "editable": true
   },
   "outputs": [],
   "source": [
    "def gabor_filter_dev2(x,y,params):\n",
    "    f,gamma,sigma,theta,psi = params\n",
    "    xt = x*theano.tensor.cos(theta) + y*theano.tensor.sin(theta)\n",
    "    yt = -x*theano.tensor.sin(theta) + y*theano.tensor.cos(theta)\n",
    "    z1 = -(xt**2 + (gamma*yt)**2)/(2*sigma**2)\n",
    "    z2 = 2*math.pi*f*xt+psi\n",
    "    #z2 = 1j*2*math.pi*f*xt+psi\n",
    "    value = f**2/(math.pi*gamma)*theano.tensor.exp(z1)*theano.tensor.cos(z2)\n",
    "    return value\n",
    "\n",
    "def gabor_filter_1(x,y,params):\n",
    "    f,gamma,sigma,theta,psi = params\n",
    "    xt = x*math.cos(theta) + y*math.sin(theta)\n",
    "    yt = -x*math.sin(theta) + y*math.cos(theta)\n",
    "    z1 = -(xt**2 + (gamma*yt)**2)/(2*sigma**2)\n",
    "    z2 = 1j*2*math.pi*f*xt+psi*1j\n",
    "    value = f**2/(math.pi*gamma)*math.exp(z1)*cmath.exp(z2)\n",
    "    return value\n",
    "\n",
    "def gabor_filter_2(x,y,params):\n",
    "    f,gamma,sigma,theta,psi = params\n",
    "    xt = x*math.cos(theta) + y*math.sin(theta)\n",
    "    yt = -x*math.sin(theta) + y*math.cos(theta)\n",
    "    z1 = -(xt**2 + (gamma*yt)**2)/(2*sigma**2)\n",
    "    z2 = 2*math.pi*f*xt+psi\n",
    "    value = f**2/(math.pi*gamma)*math.exp(z1)*math.cos(z2)\n",
    "    return value"
   ]
  },
  {
   "cell_type": "code",
   "execution_count": null,
   "metadata": {
    "collapsed": false,
    "deletable": true,
    "editable": true
   },
   "outputs": [],
   "source": [
    "w_gradients = np.ones([4,4,5])\n",
    "trys = theano.shared(w_gradients)\n",
    "#trys.eval()\n",
    "g_try = gs_updates[gs[0]]\n",
    "#a = gs[0][0,0,1]\n",
    "a = g_try[0,0][1]\n",
    "params = [a,a,a,a,a]\n",
    "#filter_ps = [gabor_filter(0,0,params),gabor_filter(0,0,params),gabor_filter(0,0,params),gabor_filter(0,0,params)]\n",
    "#np.array(filter_ps)\n",
    "x = gabor_filter_dev2(0,0,params)\n",
    "lis = []\n",
    "for i in range(0,9):\n",
    "    lis.append(x)\n",
    "y = theano.tensor.stack(lis)\n",
    "y = y.reshape((3,3))\n",
    "y.dtype"
   ]
  },
  {
   "cell_type": "code",
   "execution_count": null,
   "metadata": {
    "collapsed": false,
    "deletable": true,
    "editable": true
   },
   "outputs": [],
   "source": [
    "g_try = gs_updates[gs[0]]\n",
    "updates\n",
    "g_try.dtype"
   ]
  },
  {
   "cell_type": "code",
   "execution_count": 9,
   "metadata": {
    "collapsed": false,
    "deletable": true,
    "editable": true
   },
   "outputs": [
    {
     "data": {
      "text/plain": [
       "odict_keys([<TensorType(float32, (False, True, False))>, <TensorType(float32, (False, True, False))>, g, <TensorType(float32, (True, False, False))>, <TensorType(float32, (True, False, False))>, g, <TensorType(float32, scalar)>])"
      ]
     },
     "execution_count": 9,
     "metadata": {},
     "output_type": "execute_result"
    }
   ],
   "source": [
    "gs_updates.keys()"
   ]
  },
  {
   "cell_type": "code",
   "execution_count": null,
   "metadata": {
    "collapsed": false
   },
   "outputs": [],
   "source": [
    "updates_old = nn.updates.adam(loss, params, learning_rate=lr)\n",
    "updates_old[params[0]].dtype"
   ]
  },
  {
   "cell_type": "code",
   "execution_count": null,
   "metadata": {
    "collapsed": false
   },
   "outputs": [],
   "source": [
    "gvalue = gs[0].get_value()\n",
    "g = gvalue[0,0,:]\n",
    "g_psi(0,0,g)\n"
   ]
  }
 ],
 "metadata": {
  "kernelspec": {
   "display_name": "Python 3",
   "language": "python",
   "name": "python3"
  },
  "language_info": {
   "codemirror_mode": {
    "name": "ipython",
    "version": 3
   },
   "file_extension": ".py",
   "mimetype": "text/x-python",
   "name": "python",
   "nbconvert_exporter": "python",
   "pygments_lexer": "ipython3",
   "version": "3.5.0"
  }
 },
 "nbformat": 4,
 "nbformat_minor": 2
}
