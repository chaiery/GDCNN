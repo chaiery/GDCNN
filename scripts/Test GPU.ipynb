{
 "cells": [
  {
   "cell_type": "code",
   "execution_count": 1,
   "metadata": {},
   "outputs": [
    {
     "name": "stderr",
     "output_type": "stream",
     "text": [
      "/usr/local/lib/python2.7/dist-packages/theano/gpuarray/dnn.py:135: UserWarning: Your cuDNN version is more recent than Theano. If you encounter problems, try updating Theano or downgrading cuDNN to version 5.1.\n",
      "  warnings.warn(\"Your cuDNN version is more recent than \"\n",
      "Using cuDNN version 6020 on context None\n",
      "Mapped name None to device cuda: Quadro K2000 (0000:01:00.0)\n"
     ]
    }
   ],
   "source": [
    "from theano import tensor as T\n",
    "import lasagne_dev as nn\n",
    "import numpy as np\n",
    "import pickle\n",
    "from input_process import read_images\n",
    "import random\n",
    "import math\n",
    "import cmath\n",
    "from g_gradient import *\n",
    "import timeit\n",
    "import unet\n",
    "from collections import OrderedDict"
   ]
  },
  {
   "cell_type": "code",
   "execution_count": 2,
   "metadata": {},
   "outputs": [
    {
     "name": "stdout",
     "output_type": "stream",
     "text": [
      "0.199249982834\n"
     ]
    }
   ],
   "source": [
    "start = timeit.default_timer()\n",
    "epoch = 1\n",
    "shape = [5,1,116,116]\n",
    "\n",
    "input_var = T.tensor4('input_var')  \n",
    "label_var = T.tensor4('label_var')\n",
    "\n",
    "[network, loss, test_loss, test_acc, output_det] = unet.network(input_var, label_var, shape)\n",
    "\n",
    "\n",
    "params = nn.layers.get_all_params(network)\n",
    "lr = theano.shared(nn.utils.floatX(1e-4)) # learning rate\n",
    "updates = nn.updates.adam(loss,params, learning_rate=lr) # adam most widely used update scheme\n",
    "\n",
    "gs = nn.layers.get_all_gs(network)\n",
    "\n",
    "gs_updates = g_updates(loss, params, gs)\n",
    "updates = OrderedDict()\n",
    "updates_old = nn.updates.adam(loss, params, learning_rate=lr)\n",
    "\n",
    "stop = timeit.default_timer()\n",
    "print(stop-start)"
   ]
  },
  {
   "cell_type": "code",
   "execution_count": 79,
   "metadata": {},
   "outputs": [
    {
     "data": {
      "text/plain": [
       "array([4, 5, 5])"
      ]
     },
     "execution_count": 79,
     "metadata": {},
     "output_type": "execute_result"
    }
   ],
   "source": [
    "size = 5\n",
    "bond = math.floor(size/2)\n",
    "\n",
    "gg_shared = theano.shared(np.array([1,2,3,4,5],dtype=np.float32))\n",
    "g_params = [gg_shared[0],gg_shared[1],gg_shared[2],gg_shared[3],gg_shared[4]]\n",
    "f,gamma,sigma,theta,psi = g_params\n",
    "x_range = np.linspace(-bond, bond, size)\n",
    "y_range = np.linspace(-bond, bond, size)\n",
    "\n",
    "xt,yt = np.meshgrid(x_range,y_range)\n",
    "xt = xt.astype(np.float32)\n",
    "yt = yt.astype(np.float32)\n",
    "a = gabor_filter_tensor_dev(xt,yt,g_params)\n",
    "Ws = theano.tensor.stack([a,a,a,a])\n",
    "Ws.reshape([4,1,5,5])\n",
    "Ws.shape.eval()"
   ]
  },
  {
   "cell_type": "code",
   "execution_count": 27,
   "metadata": {},
   "outputs": [
    {
     "name": "stdout",
     "output_type": "stream",
     "text": [
      "0.0554769039154\n"
     ]
    }
   ],
   "source": [
    "start = timeit.default_timer()\n",
    "gabor_weight_update_dev(shape, gs[0])\n",
    "stop = timeit.default_timer()\n",
    "print(stop-start)"
   ]
  },
  {
   "cell_type": "code",
   "execution_count": null,
   "metadata": {},
   "outputs": [],
   "source": [
    "start = timeit.default_timer()\n",
    "## generate updates for params\n",
    "\n",
    "for i in range (0,len(gs)):\n",
    "\n",
    "    gs_new = gs_updates[gs[i]]\n",
    "    ws = params[i*2]\n",
    "    [num_filters, num_channels, filter_size, filter_size] = ws.get_value().shape\n",
    "    W = gabor_weight_update_dev([num_filters, num_channels, filter_size, filter_size], gs_new)\n",
    "    #updates[ws] = theano.shared(W)\n",
    "    updates[ws] = W\n",
    "    updates[params[i*2+1]] = updates_old[params[i*2+1]]\n",
    "\n",
    "stop = timeit.default_timer()\n",
    "print(stop-start)"
   ]
  },
  {
   "cell_type": "code",
   "execution_count": 111,
   "metadata": {},
   "outputs": [
    {
     "data": {
      "text/plain": [
       "(False, False, False)"
      ]
     },
     "execution_count": 111,
     "metadata": {},
     "output_type": "execute_result"
    }
   ],
   "source": [
    "x = gs[1]\n",
    "gs_updates[gs[1]].broadcastable\n",
    "#x.broadcastable"
   ]
  },
  {
   "cell_type": "code",
   "execution_count": 112,
   "metadata": {
    "collapsed": true
   },
   "outputs": [],
   "source": [
    "from input_process import read_images\n",
    "from train import run_params\n",
    "import pickle\n",
    "import numpy as np\n",
    "import random\n",
    "\n",
    "size = (116, 116) # resize images\n",
    "\n",
    "pkl_file = open('../fnames_collection_2', 'r')\n",
    "fnames = pkl_file.readline()\n",
    "fnames = fnames.split(' ')\n",
    "for i in range (0,len(fnames)):\n",
    "\tfnames[i] = str(fnames[i])\n",
    "\tfnames[i] = 'image' + fnames[i] + '.png'\n",
    "\n",
    "'''\n",
    "index = fnames[1:4000]\n",
    "random.shuffle(index)\n",
    "train_index = index[0:4000]\n",
    "test_index = fnames[4000:4200]\n",
    "'''\n",
    "train_index = fnames[0:5]\n",
    "test_index = fnames[10:15]\n",
    "\n",
    "\n",
    "\n",
    "label_path = '../NewPNGlabeled/'\n",
    "ori_path = '../JpegOriginalImg/'\n",
    "\n",
    "train_input, train_label = read_images(label_path, ori_path, train_index, size)\n",
    "test_input, test_label = read_images(label_path, ori_path, test_index, size)"
   ]
  },
  {
   "cell_type": "code",
   "execution_count": 115,
   "metadata": {},
   "outputs": [],
   "source": [
    "epoch = 1\n",
    "shape = [5,1,116,116]\n",
    "\n",
    "\n",
    "input_var = train_input\n",
    "label_var = train_label\n",
    "\n",
    "[network, loss, test_loss, test_acc, output_det] = unet.network(input_var, label_var, shape)\n",
    "\n",
    "\n",
    "params = nn.layers.get_all_params(network)\n",
    "lr = theano.shared(nn.utils.floatX(1e-4)) # learning rate\n",
    "updates = nn.updates.adam(loss,params, learning_rate=lr) # adam most widely used update scheme\n",
    "\n",
    "gs = nn.layers.get_all_gs(network)\n",
    "\n",
    "gs_updates = g_updates(loss, params, gs)\n",
    "updates = OrderedDict()\n",
    "updates_old = nn.updates.adam(loss, params, learning_rate=lr)\n",
    "\n",
    "\n",
    "[network, loss, test_loss, test_acc, output_det] = unet.network(input_var, label_var, shape)\n",
    "\n",
    "\n",
    "params = nn.layers.get_all_params(network)\n",
    "lr = theano.shared(nn.utils.floatX(1e-4)) # learning rate\n",
    "updates = nn.updates.adam(loss,params, learning_rate=lr) # adam most widely used update scheme\n",
    "\n",
    "gs = nn.layers.get_all_gs(network)\n",
    "\n",
    "gs_updates = g_updates(loss, params, gs)\n",
    "updates = OrderedDict()\n",
    "updates_old = nn.updates.adam(loss, params, learning_rate=lr)\n"
   ]
  },
  {
   "cell_type": "code",
   "execution_count": 127,
   "metadata": {},
   "outputs": [
    {
     "name": "stdout",
     "output_type": "stream",
     "text": [
      "2\n",
      "[ 1 64  5]\n"
     ]
    },
    {
     "data": {
      "text/plain": [
       "array([64, 64,  5])"
      ]
     },
     "execution_count": 127,
     "metadata": {},
     "output_type": "execute_result"
    }
   ],
   "source": [
    "print(len(gs))\n",
    "print(gs[1].shape.eval())\n",
    "gs_updates[gs[1]].shape.eval()"
   ]
  },
  {
   "cell_type": "code",
   "execution_count": 173,
   "metadata": {
    "collapsed": true
   },
   "outputs": [],
   "source": [
    "gs_gradients = []\n",
    "gradients = nn.updates.get_or_compute_grads(loss, params)\n",
    "\n",
    "w_index = 1\n",
    "# First Loop\n",
    "# print(w_index)\n",
    "\n",
    "ws = params[w_index*2]\n",
    "g_params = gs[w_index].get_value()\n",
    "ws_gradients = gradients[w_index*2]\n",
    "\n",
    "[num_filters, num_channels, filter_size, filter_size] = ws.get_value().shape\n",
    "\n",
    "position = int(math.floor(filter_size/2))\n",
    "ws_grad = ws_gradients[:,:,position:position+1,position]\n",
    "\n",
    "# Second and third Loop\n",
    "additions = []\n",
    "for i in range (0, num_filters):\n",
    "    for j in range (0, num_channels):\n",
    "        g = g_params[i,j,:]\n",
    "        additions.append(g_psi(0,0,g))\n",
    "\n",
    "additions =  np.array(additions,dtype=np.float32).reshape(num_filters,num_channels,-1)\n",
    "g_gradients = theano.tensor.concatenate([ws_grad*0, ws_grad*0, ws_grad*0, ws_grad*0, ws_grad], axis=2)*additions\n",
    "gs_gradients.append(g_gradients)\n",
    "gs_updates = nn.updates.adam_dev(gs_gradients, gs)"
   ]
  },
  {
   "cell_type": "code",
   "execution_count": 155,
   "metadata": {},
   "outputs": [
    {
     "data": {
      "text/plain": [
       "Elemwise{mul,no_inplace}.0"
      ]
     },
     "execution_count": 155,
     "metadata": {},
     "output_type": "execute_result"
    }
   ],
   "source": [
    "g_gradients = theano.tensor.concatenate([ws_grad, ws_grad, ws_grad, ws_grad, ws_grad], axis=2)*additions"
   ]
  },
  {
   "cell_type": "code",
   "execution_count": 174,
   "metadata": {},
   "outputs": [
    {
     "name": "stdout",
     "output_type": "stream",
     "text": [
      "[ 1 64  5]\n",
      "(1, 64, 1)\n"
     ]
    }
   ],
   "source": [
    "7"
   ]
  },
  {
   "cell_type": "code",
   "execution_count": 175,
   "metadata": {},
   "outputs": [
    {
     "name": "stdout",
     "output_type": "stream",
     "text": [
      "[[[  7.22231835e-06   7.22231835e-06   7.22231835e-06   7.22231835e-06\n",
      "     7.22231835e-06]\n",
      "  [  2.49578043e-05   2.49578043e-05   2.49578043e-05   2.49578043e-05\n",
      "     2.49578043e-05]\n",
      "  [  2.33826268e-06   2.33826268e-06   2.33826268e-06   2.33826268e-06\n",
      "     2.33826268e-06]\n",
      "  [  9.81006542e-06   9.81006542e-06   9.81006542e-06   9.81006542e-06\n",
      "     9.81006542e-06]\n",
      "  [  1.07507985e-04   1.07507985e-04   1.07507985e-04   1.07507985e-04\n",
      "     1.07507985e-04]\n",
      "  [  1.87808405e-06   1.87808405e-06   1.87808405e-06   1.87808405e-06\n",
      "     1.87808405e-06]\n",
      "  [  2.55415234e-05   2.55415234e-05   2.55415234e-05   2.55415234e-05\n",
      "     2.55415234e-05]\n",
      "  [  3.26521040e-05   3.26521040e-05   3.26521040e-05   3.26521040e-05\n",
      "     3.26521040e-05]\n",
      "  [  7.31088858e-06   7.31088858e-06   7.31088858e-06   7.31088858e-06\n",
      "     7.31088858e-06]\n",
      "  [  1.49044830e-08   1.49044830e-08   1.49044830e-08   1.49044830e-08\n",
      "     1.49044830e-08]\n",
      "  [  3.99758648e-07   3.99758648e-07   3.99758648e-07   3.99758648e-07\n",
      "     3.99758648e-07]\n",
      "  [  3.74899696e-06   3.74899696e-06   3.74899696e-06   3.74899696e-06\n",
      "     3.74899696e-06]\n",
      "  [  7.67398490e-07   7.67398490e-07   7.67398490e-07   7.67398490e-07\n",
      "     7.67398490e-07]\n",
      "  [  1.19965944e-06   1.19965944e-06   1.19965944e-06   1.19965944e-06\n",
      "     1.19965944e-06]\n",
      "  [  9.79961842e-05   9.79961842e-05   9.79961842e-05   9.79961842e-05\n",
      "     9.79961842e-05]\n",
      "  [  1.32767946e-06   1.32767946e-06   1.32767946e-06   1.32767946e-06\n",
      "     1.32767946e-06]\n",
      "  [  1.35728342e-05   1.35728342e-05   1.35728342e-05   1.35728342e-05\n",
      "     1.35728342e-05]\n",
      "  [  0.00000000e+00   0.00000000e+00   0.00000000e+00   0.00000000e+00\n",
      "     0.00000000e+00]\n",
      "  [  3.15764477e-03   3.15764477e-03   3.15764477e-03   3.15764477e-03\n",
      "     3.15764477e-03]\n",
      "  [  3.56292617e-06   3.56292617e-06   3.56292617e-06   3.56292617e-06\n",
      "     3.56292617e-06]\n",
      "  [  3.61301022e-06   3.61301022e-06   3.61301022e-06   3.61301022e-06\n",
      "     3.61301022e-06]\n",
      "  [  4.30066484e-06   4.30066484e-06   4.30066484e-06   4.30066484e-06\n",
      "     4.30066484e-06]\n",
      "  [  1.90883497e-06   1.90883497e-06   1.90883497e-06   1.90883497e-06\n",
      "     1.90883497e-06]\n",
      "  [  1.15288287e-06   1.15288287e-06   1.15288287e-06   1.15288287e-06\n",
      "     1.15288287e-06]\n",
      "  [  0.00000000e+00   0.00000000e+00   0.00000000e+00   0.00000000e+00\n",
      "     0.00000000e+00]\n",
      "  [  1.56704027e-06   1.56704027e-06   1.56704027e-06   1.56704027e-06\n",
      "     1.56704027e-06]\n",
      "  [  4.01972784e-06   4.01972784e-06   4.01972784e-06   4.01972784e-06\n",
      "     4.01972784e-06]\n",
      "  [  4.98708187e-06   4.98708187e-06   4.98708187e-06   4.98708187e-06\n",
      "     4.98708187e-06]\n",
      "  [  8.62221059e-05   8.62221059e-05   8.62221059e-05   8.62221059e-05\n",
      "     8.62221059e-05]\n",
      "  [  1.32086338e-04   1.32086338e-04   1.32086338e-04   1.32086338e-04\n",
      "     1.32086338e-04]\n",
      "  [  2.50390513e-05   2.50390513e-05   2.50390513e-05   2.50390513e-05\n",
      "     2.50390513e-05]\n",
      "  [  3.67588545e-05   3.67588545e-05   3.67588545e-05   3.67588545e-05\n",
      "     3.67588545e-05]\n",
      "  [  9.97843199e-06   9.97843199e-06   9.97843199e-06   9.97843199e-06\n",
      "     9.97843199e-06]\n",
      "  [  6.34482490e-07   6.34482490e-07   6.34482490e-07   6.34482490e-07\n",
      "     6.34482490e-07]\n",
      "  [  7.07957679e-06   7.07957679e-06   7.07957679e-06   7.07957679e-06\n",
      "     7.07957679e-06]\n",
      "  [  1.85908120e-05   1.85908120e-05   1.85908120e-05   1.85908120e-05\n",
      "     1.85908120e-05]\n",
      "  [  4.48953651e-05   4.48953651e-05   4.48953651e-05   4.48953651e-05\n",
      "     4.48953651e-05]\n",
      "  [  3.58040379e-05   3.58040379e-05   3.58040379e-05   3.58040379e-05\n",
      "     3.58040379e-05]\n",
      "  [  5.61926718e-05   5.61926718e-05   5.61926718e-05   5.61926718e-05\n",
      "     5.61926718e-05]\n",
      "  [  3.02029434e-06   3.02029434e-06   3.02029434e-06   3.02029434e-06\n",
      "     3.02029434e-06]\n",
      "  [  7.77367063e-07   7.77367063e-07   7.77367063e-07   7.77367063e-07\n",
      "     7.77367063e-07]\n",
      "  [  3.70745183e-05   3.70745183e-05   3.70745183e-05   3.70745183e-05\n",
      "     3.70745183e-05]\n",
      "  [  9.48201304e-08   9.48201304e-08   9.48201304e-08   9.48201304e-08\n",
      "     9.48201304e-08]\n",
      "  [  1.29220007e-06   1.29220007e-06   1.29220007e-06   1.29220007e-06\n",
      "     1.29220007e-06]\n",
      "  [  5.16038028e-07   5.16038028e-07   5.16038028e-07   5.16038028e-07\n",
      "     5.16038028e-07]\n",
      "  [  3.90332661e-06   3.90332661e-06   3.90332661e-06   3.90332661e-06\n",
      "     3.90332661e-06]\n",
      "  [  2.59268517e-03   2.59268517e-03   2.59268517e-03   2.59268517e-03\n",
      "     2.59268517e-03]\n",
      "  [  7.37736855e-07   7.37736855e-07   7.37736855e-07   7.37736855e-07\n",
      "     7.37736855e-07]\n",
      "  [  1.23476946e-06   1.23476946e-06   1.23476946e-06   1.23476946e-06\n",
      "     1.23476946e-06]\n",
      "  [  1.66746034e-07   1.66746034e-07   1.66746034e-07   1.66746034e-07\n",
      "     1.66746034e-07]\n",
      "  [  5.96151358e-06   5.96151358e-06   5.96151358e-06   5.96151358e-06\n",
      "     5.96151358e-06]\n",
      "  [  5.19041294e-07   5.19041294e-07   5.19041294e-07   5.19041294e-07\n",
      "     5.19041294e-07]\n",
      "  [  1.03246493e-05   1.03246493e-05   1.03246493e-05   1.03246493e-05\n",
      "     1.03246493e-05]\n",
      "  [  8.15028852e-06   8.15028852e-06   8.15028852e-06   8.15028852e-06\n",
      "     8.15028852e-06]\n",
      "  [  1.71278785e-07   1.71278785e-07   1.71278785e-07   1.71278785e-07\n",
      "     1.71278785e-07]\n",
      "  [  7.93702657e-06   7.93702657e-06   7.93702657e-06   7.93702657e-06\n",
      "     7.93702657e-06]\n",
      "  [  3.18931075e-06   3.18931075e-06   3.18931075e-06   3.18931075e-06\n",
      "     3.18931075e-06]\n",
      "  [  6.56407394e-07   6.56407394e-07   6.56407394e-07   6.56407394e-07\n",
      "     6.56407394e-07]\n",
      "  [  1.04336514e-05   1.04336514e-05   1.04336514e-05   1.04336514e-05\n",
      "     1.04336514e-05]\n",
      "  [  7.60590922e-07   7.60590922e-07   7.60590922e-07   7.60590922e-07\n",
      "     7.60590922e-07]\n",
      "  [  3.50990558e-06   3.50990558e-06   3.50990558e-06   3.50990558e-06\n",
      "     3.50990558e-06]\n",
      "  [  1.10931092e-06   1.10931092e-06   1.10931092e-06   1.10931092e-06\n",
      "     1.10931092e-06]\n",
      "  [  3.71402100e-04   3.71402100e-04   3.71402100e-04   3.71402100e-04\n",
      "     3.71402100e-04]\n",
      "  [  3.23388958e-05   3.23388958e-05   3.23388958e-05   3.23388958e-05\n",
      "     3.23388958e-05]]]\n",
      "[[[  8.53290617e-01]\n",
      "  [ -6.80382550e-01]\n",
      "  [ -7.51866400e-01]\n",
      "  [  3.97800989e-02]\n",
      "  [  7.72277927e+00]\n",
      "  [  3.44255972e+00]\n",
      "  [  6.91690266e-01]\n",
      "  [  9.63108672e-04]\n",
      "  [  8.02504241e-01]\n",
      "  [  2.56601870e-01]\n",
      "  [  1.38905382e+01]\n",
      "  [  5.50634444e-01]\n",
      "  [  2.71974527e-03]\n",
      "  [  5.96593797e-01]\n",
      "  [  2.10533310e-02]\n",
      "  [  1.85864849e+01]\n",
      "  [  2.16450882e+00]\n",
      "  [  1.32603556e-01]\n",
      "  [  8.87838304e-02]\n",
      "  [  2.21783310e-01]\n",
      "  [  1.47104144e+00]\n",
      "  [  4.68126424e-02]\n",
      "  [  4.69645560e-01]\n",
      "  [ -1.68472230e-01]\n",
      "  [  5.35084629e+00]\n",
      "  [ -1.17256328e-01]\n",
      "  [  4.51139063e-01]\n",
      "  [  1.55282274e-01]\n",
      "  [  7.43453437e-03]\n",
      "  [  2.03652000e+00]\n",
      "  [  7.20263645e-02]\n",
      "  [  7.46031106e-01]\n",
      "  [  6.24379236e-03]\n",
      "  [ -1.43175554e+00]\n",
      "  [  5.83461523e-01]\n",
      "  [  1.26260081e-02]\n",
      "  [ -3.51671875e-01]\n",
      "  [  1.35662749e-01]\n",
      "  [  1.13710284e+00]\n",
      "  [ -2.89008409e-01]\n",
      "  [  3.28994542e-02]\n",
      "  [ -3.90493423e-01]\n",
      "  [ -2.08453548e-05]\n",
      "  [  1.13651507e-01]\n",
      "  [  1.87180882e+01]\n",
      "  [ -1.12215551e-02]\n",
      "  [  4.73043546e-02]\n",
      "  [  8.14726651e-01]\n",
      "  [  3.30055666e+00]\n",
      "  [  3.90788257e-01]\n",
      "  [  2.25125790e-01]\n",
      "  [  7.71557426e+00]\n",
      "  [  4.02690125e+00]\n",
      "  [  4.72087175e-01]\n",
      "  [  9.52037200e-02]\n",
      "  [  3.60595226e-01]\n",
      "  [ -4.22180668e-02]\n",
      "  [  3.41607666e+00]\n",
      "  [  1.38399010e+01]\n",
      "  [  1.17410444e-01]\n",
      "  [  5.33724166e-02]\n",
      "  [ -1.12842657e-01]\n",
      "  [  1.55897760e+00]\n",
      "  [ -5.95337152e-02]]]\n"
     ]
    }
   ],
   "source": [
    "print(theano.tensor.concatenate([ws_grad, ws_grad, ws_grad, ws_grad, ws_grad], axis=2).eval())\n",
    "print(additions)"
   ]
  },
  {
   "cell_type": "code",
   "execution_count": 176,
   "metadata": {},
   "outputs": [
    {
     "name": "stdout",
     "output_type": "stream",
     "text": [
      "[[[  0.00000000e+00   0.00000000e+00   0.00000000e+00   0.00000000e+00\n",
      "     6.16273655e-06]\n",
      "  [ -0.00000000e+00  -0.00000000e+00  -0.00000000e+00  -0.00000000e+00\n",
      "    -1.69808536e-05]\n",
      "  [ -0.00000000e+00  -0.00000000e+00  -0.00000000e+00  -0.00000000e+00\n",
      "    -1.75806110e-06]\n",
      "  [  0.00000000e+00   0.00000000e+00   0.00000000e+00   0.00000000e+00\n",
      "     3.90245361e-07]\n",
      "  [  0.00000000e+00   0.00000000e+00   0.00000000e+00   0.00000000e+00\n",
      "     8.30260455e-04]\n",
      "  [  0.00000000e+00   0.00000000e+00   0.00000000e+00   0.00000000e+00\n",
      "     6.46541639e-06]\n",
      "  [  0.00000000e+00   0.00000000e+00   0.00000000e+00   0.00000000e+00\n",
      "     1.76668236e-05]\n",
      "  [  0.00000000e+00   0.00000000e+00   0.00000000e+00   0.00000000e+00\n",
      "     3.14475237e-08]\n",
      "  [  0.00000000e+00   0.00000000e+00   0.00000000e+00   0.00000000e+00\n",
      "     5.86701890e-06]\n",
      "  [  0.00000000e+00   0.00000000e+00   0.00000000e+00   0.00000000e+00\n",
      "     3.82451804e-09]\n",
      "  [  0.00000000e+00   0.00000000e+00   0.00000000e+00   0.00000000e+00\n",
      "     5.55286260e-06]\n",
      "  [  0.00000000e+00   0.00000000e+00   0.00000000e+00   0.00000000e+00\n",
      "     2.06432696e-06]\n",
      "  [  0.00000000e+00   0.00000000e+00   0.00000000e+00   0.00000000e+00\n",
      "     2.08712847e-09]\n",
      "  [  0.00000000e+00   0.00000000e+00   0.00000000e+00   0.00000000e+00\n",
      "     7.15709405e-07]\n",
      "  [  0.00000000e+00   0.00000000e+00   0.00000000e+00   0.00000000e+00\n",
      "     2.06314621e-06]\n",
      "  [  0.00000000e+00   0.00000000e+00   0.00000000e+00   0.00000000e+00\n",
      "     2.46768941e-05]\n",
      "  [  0.00000000e+00   0.00000000e+00   0.00000000e+00   0.00000000e+00\n",
      "     2.93785197e-05]\n",
      "  [  0.00000000e+00   0.00000000e+00   0.00000000e+00   0.00000000e+00\n",
      "     0.00000000e+00]\n",
      "  [  0.00000000e+00   0.00000000e+00   0.00000000e+00   0.00000000e+00\n",
      "     2.80347798e-04]\n",
      "  [  0.00000000e+00   0.00000000e+00   0.00000000e+00   0.00000000e+00\n",
      "     7.90197532e-07]\n",
      "  [  0.00000000e+00   0.00000000e+00   0.00000000e+00   0.00000000e+00\n",
      "     5.31488786e-06]\n",
      "  [  0.00000000e+00   0.00000000e+00   0.00000000e+00   0.00000000e+00\n",
      "     2.01325491e-07]\n",
      "  [  0.00000000e+00   0.00000000e+00   0.00000000e+00   0.00000000e+00\n",
      "     8.96475854e-07]\n",
      "  [ -0.00000000e+00  -0.00000000e+00  -0.00000000e+00  -0.00000000e+00\n",
      "    -1.94228747e-07]\n",
      "  [  0.00000000e+00   0.00000000e+00   0.00000000e+00   0.00000000e+00\n",
      "     0.00000000e+00]\n",
      "  [ -0.00000000e+00  -0.00000000e+00  -0.00000000e+00  -0.00000000e+00\n",
      "    -1.83745385e-07]\n",
      "  [  0.00000000e+00   0.00000000e+00   0.00000000e+00   0.00000000e+00\n",
      "     1.81345627e-06]\n",
      "  [  0.00000000e+00   0.00000000e+00   0.00000000e+00   0.00000000e+00\n",
      "     7.74405407e-07]\n",
      "  [  0.00000000e+00   0.00000000e+00   0.00000000e+00   0.00000000e+00\n",
      "     6.41021188e-07]\n",
      "  [  0.00000000e+00   0.00000000e+00   0.00000000e+00   0.00000000e+00\n",
      "     2.68996460e-04]\n",
      "  [  0.00000000e+00   0.00000000e+00   0.00000000e+00   0.00000000e+00\n",
      "     1.80347183e-06]\n",
      "  [  0.00000000e+00   0.00000000e+00   0.00000000e+00   0.00000000e+00\n",
      "     2.74232498e-05]\n",
      "  [  0.00000000e+00   0.00000000e+00   0.00000000e+00   0.00000000e+00\n",
      "     6.23032577e-08]\n",
      "  [ -0.00000000e+00  -0.00000000e+00  -0.00000000e+00  -0.00000000e+00\n",
      "    -9.08423829e-07]\n",
      "  [  0.00000000e+00   0.00000000e+00   0.00000000e+00   0.00000000e+00\n",
      "     4.13066073e-06]\n",
      "  [  0.00000000e+00   0.00000000e+00   0.00000000e+00   0.00000000e+00\n",
      "     2.34727750e-07]\n",
      "  [ -0.00000000e+00  -0.00000000e+00  -0.00000000e+00  -0.00000000e+00\n",
      "    -1.57884369e-05]\n",
      "  [  0.00000000e+00   0.00000000e+00   0.00000000e+00   0.00000000e+00\n",
      "     4.85727423e-06]\n",
      "  [  0.00000000e+00   0.00000000e+00   0.00000000e+00   0.00000000e+00\n",
      "     6.38968486e-05]\n",
      "  [ -0.00000000e+00  -0.00000000e+00  -0.00000000e+00  -0.00000000e+00\n",
      "    -8.72890439e-07]\n",
      "  [  0.00000000e+00   0.00000000e+00   0.00000000e+00   0.00000000e+00\n",
      "     2.55749519e-08]\n",
      "  [ -0.00000000e+00  -0.00000000e+00  -0.00000000e+00  -0.00000000e+00\n",
      "    -1.44773558e-05]\n",
      "  [ -0.00000000e+00  -0.00000000e+00  -0.00000000e+00  -0.00000000e+00\n",
      "    -1.97655932e-12]\n",
      "  [  0.00000000e+00   0.00000000e+00   0.00000000e+00   0.00000000e+00\n",
      "     1.46860486e-07]\n",
      "  [  0.00000000e+00   0.00000000e+00   0.00000000e+00   0.00000000e+00\n",
      "     9.65924573e-06]\n",
      "  [ -0.00000000e+00  -0.00000000e+00  -0.00000000e+00  -0.00000000e+00\n",
      "    -4.38013963e-08]\n",
      "  [  0.00000000e+00   0.00000000e+00   0.00000000e+00   0.00000000e+00\n",
      "     1.22645302e-04]\n",
      "  [  0.00000000e+00   0.00000000e+00   0.00000000e+00   0.00000000e+00\n",
      "     6.01053898e-07]\n",
      "  [  0.00000000e+00   0.00000000e+00   0.00000000e+00   0.00000000e+00\n",
      "     4.07542666e-06]\n",
      "  [  0.00000000e+00   0.00000000e+00   0.00000000e+00   0.00000000e+00\n",
      "     6.51623893e-08]\n",
      "  [  0.00000000e+00   0.00000000e+00   0.00000000e+00   0.00000000e+00\n",
      "     1.34209040e-06]\n",
      "  [  0.00000000e+00   0.00000000e+00   0.00000000e+00   0.00000000e+00\n",
      "     4.00470162e-06]\n",
      "  [  0.00000000e+00   0.00000000e+00   0.00000000e+00   0.00000000e+00\n",
      "     4.15763425e-05]\n",
      "  [  0.00000000e+00   0.00000000e+00   0.00000000e+00   0.00000000e+00\n",
      "     3.84764689e-06]\n",
      "  [  0.00000000e+00   0.00000000e+00   0.00000000e+00   0.00000000e+00\n",
      "     1.63063767e-08]\n",
      "  [  0.00000000e+00   0.00000000e+00   0.00000000e+00   0.00000000e+00\n",
      "     2.86205386e-06]\n",
      "  [ -0.00000000e+00  -0.00000000e+00  -0.00000000e+00  -0.00000000e+00\n",
      "    -1.34646541e-07]\n",
      "  [  0.00000000e+00   0.00000000e+00   0.00000000e+00   0.00000000e+00\n",
      "     2.24233804e-06]\n",
      "  [  0.00000000e+00   0.00000000e+00   0.00000000e+00   0.00000000e+00\n",
      "     1.44400707e-04]\n",
      "  [  0.00000000e+00   0.00000000e+00   0.00000000e+00   0.00000000e+00\n",
      "     8.93013166e-08]\n",
      "  [  0.00000000e+00   0.00000000e+00   0.00000000e+00   0.00000000e+00\n",
      "     1.87332148e-07]\n",
      "  [ -0.00000000e+00  -0.00000000e+00  -0.00000000e+00  -0.00000000e+00\n",
      "    -1.25177593e-07]\n",
      "  [  0.00000000e+00   0.00000000e+00   0.00000000e+00   0.00000000e+00\n",
      "     5.79007552e-04]\n",
      "  [ -0.00000000e+00  -0.00000000e+00  -0.00000000e+00  -0.00000000e+00\n",
      "    -1.92525454e-06]]]\n"
     ]
    }
   ],
   "source": [
    "print(gs_gradients[0].eval())"
   ]
  },
  {
   "cell_type": "code",
   "execution_count": null,
   "metadata": {},
   "outputs": [],
   "source": [
    "from collections import OrderedDict\n",
    "updates = OrderedDict()\n",
    "updates_old = nn.updates.adam(loss, params, learning_rate=lr)\n",
    "for i in range (0,len(gs)):\n",
    "    print(i)\n",
    "    gs_new = gs_updates[gs[0]]\n",
    "    ws = params[i*2]\n",
    "    [num_filters, num_channels, filter_size, filter_size] = ws.get_value().shape\n",
    "    W = gabor_weight_update([num_filters, num_channels, filter_size, filter_size], gs_new)\n",
    "    #updates[ws] = theano.shared(W)\n",
    "    updates[ws] = W\n",
    "    updates[params[i*2+1]] = updates_old[params[i*2+1]]\n"
   ]
  },
  {
   "cell_type": "code",
   "execution_count": null,
   "metadata": {},
   "outputs": [],
   "source": [
    "gradients = nn.updates.get_or_compute_grads(loss, params)\n",
    "ws_gradients = gradients[0]\n",
    "ws_gradients[0,0,1,1]\n",
    "theano.shared(ws_gradients)"
   ]
  },
  {
   "cell_type": "code",
   "execution_count": 45,
   "metadata": {
    "collapsed": true
   },
   "outputs": [],
   "source": [
    "def gabor_filter_dev2(x,y,params):\n",
    "    f,gamma,sigma,theta,psi = params\n",
    "    xt = x*theano.tensor.cos(theta) + y*theano.tensor.sin(theta)\n",
    "    yt = -x*theano.tensor.sin(theta) + y*theano.tensor.cos(theta)\n",
    "    z1 = -(xt**2 + (gamma*yt)**2)/(2*sigma**2)\n",
    "    z2 = 2*math.pi*f*xt+psi\n",
    "    #z2 = 1j*2*math.pi*f*xt+psi\n",
    "    value = f**2/(math.pi*gamma)*theano.tensor.exp(z1)*theano.tensor.cos(z2)\n",
    "    return value\n",
    "\n",
    "def gabor_filter_1(x,y,params):\n",
    "    f,gamma,sigma,theta,psi = params\n",
    "    xt = x*math.cos(theta) + y*math.sin(theta)\n",
    "    yt = -x*math.sin(theta) + y*math.cos(theta)\n",
    "    z1 = -(xt**2 + (gamma*yt)**2)/(2*sigma**2)\n",
    "    z2 = 1j*2*math.pi*f*xt+psi*1j\n",
    "    value = f**2/(math.pi*gamma)*math.exp(z1)*cmath.exp(z2)\n",
    "    return value\n",
    "\n",
    "def gabor_filter_2(x,y,params):\n",
    "    f,gamma,sigma,theta,psi = params\n",
    "    xt = x*math.cos(theta) + y*math.sin(theta)\n",
    "    yt = -x*math.sin(theta) + y*math.cos(theta)\n",
    "    z1 = -(xt**2 + (gamma*yt)**2)/(2*sigma**2)\n",
    "    z2 = 2*math.pi*f*xt+psi\n",
    "    value = f**2/(math.pi*gamma)*math.exp(z1)*math.cos(z2)\n",
    "    return value"
   ]
  },
  {
   "cell_type": "code",
   "execution_count": null,
   "metadata": {},
   "outputs": [],
   "source": [
    "g_try = gs_updates[gs[0]]\n",
    "updates\n",
    "g_try.dtype"
   ]
  },
  {
   "cell_type": "code",
   "execution_count": null,
   "metadata": {},
   "outputs": [],
   "source": [
    "gs_updates.keys()"
   ]
  },
  {
   "cell_type": "code",
   "execution_count": null,
   "metadata": {},
   "outputs": [],
   "source": [
    "updates_old = nn.updates.adam(loss, params, learning_rate=lr)\n",
    "updates_old[params[0]].dtype"
   ]
  },
  {
   "cell_type": "code",
   "execution_count": null,
   "metadata": {},
   "outputs": [],
   "source": [
    "gvalue = gs[0].get_value()\n",
    "g = gvalue[0,0,:]\n",
    "g_psi(0,0,g)\n"
   ]
  }
 ],
 "metadata": {
  "kernelspec": {
   "display_name": "Python 2",
   "language": "python",
   "name": "python2"
  },
  "language_info": {
   "codemirror_mode": {
    "name": "ipython",
    "version": 2
   },
   "file_extension": ".py",
   "mimetype": "text/x-python",
   "name": "python",
   "nbconvert_exporter": "python",
   "pygments_lexer": "ipython2",
   "version": "2.7.12"
  }
 },
 "nbformat": 4,
 "nbformat_minor": 2
}
