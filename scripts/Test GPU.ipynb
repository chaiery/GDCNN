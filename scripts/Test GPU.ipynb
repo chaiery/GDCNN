{
 "cells": [
  {
   "cell_type": "code",
   "execution_count": 1,
   "metadata": {
    "collapsed": false,
    "deletable": true,
    "editable": true
   },
   "outputs": [],
   "source": [
    "from theano import tensor as T\n",
    "import lasagne_dev as nn\n",
    "import numpy as np\n",
    "import pickle\n",
    "from input_process import read_images\n",
    "import random\n",
    "import math\n",
    "import cmath\n",
    "from g_gradient import *\n",
    "import timeit\n",
    "import unet\n",
    "from collections import OrderedDict"
   ]
  },
  {
   "cell_type": "code",
   "execution_count": null,
   "metadata": {
    "collapsed": false,
    "deletable": true,
    "editable": true
   },
   "outputs": [],
   "source": [
    "start = timeit.default_timer()\n",
    "epoch = 1\n",
    "shape = [5,1,116,116]\n",
    "\n",
    "input_var = T.tensor4('input_var')  \n",
    "label_var = T.tensor4('label_var')\n",
    "\n",
    "[network, loss, test_loss, test_acc, output_det] = unet.network(input_var, label_var, shape)\n",
    "\n",
    "\n",
    "params = nn.layers.get_all_params(network)\n",
    "lr = theano.shared(nn.utils.floatX(1e-4)) # learning rate\n",
    "updates = nn.updates.adam(loss,params, learning_rate=lr) # adam most widely used update scheme\n",
    "\n",
    "gs = nn.layers.get_all_gs(network)\n",
    "\n",
    "gs_updates = g_updates(loss, params, gs)\n",
    "updates = OrderedDict()\n",
    "updates_old = nn.updates.adam(loss, params, learning_rate=lr)\n",
    "\n",
    "stop = timeit.default_timer()\n",
    "print(stop-start)"
   ]
  },
  {
   "cell_type": "code",
   "execution_count": null,
   "metadata": {
    "collapsed": false,
    "deletable": true,
    "editable": true
   },
   "outputs": [],
   "source": [
    "size = 5\n",
    "bond = math.floor(size/2)\n",
    "\n",
    "gg_shared = theano.shared(np.array([1,2,3,4,5],dtype=np.float32))\n",
    "g_params = [gg_shared[0],gg_shared[1],gg_shared[2],gg_shared[3],gg_shared[4]]\n",
    "f,gamma,sigma,theta,psi = g_params\n",
    "x_range = np.linspace(-bond, bond, size)\n",
    "y_range = np.linspace(-bond, bond, size)\n",
    "\n",
    "xt,yt = np.meshgrid(x_range,y_range)\n",
    "xt = xt.astype(np.float32)\n",
    "yt = yt.astype(np.float32)\n",
    "a = gabor_filter_tensor_dev(xt,yt,g_params)\n",
    "Ws = theano.tensor.stack([a,a,a,a])\n",
    "Ws.reshape([4,1,5,5])\n",
    "Ws.shape.eval()"
   ]
  },
  {
   "cell_type": "code",
   "execution_count": null,
   "metadata": {
    "collapsed": false,
    "deletable": true,
    "editable": true
   },
   "outputs": [],
   "source": [
    "start = timeit.default_timer()\n",
    "gabor_weight_update_dev(shape, gs[0])\n",
    "stop = timeit.default_timer()\n",
    "print(stop-start)"
   ]
  },
  {
   "cell_type": "code",
   "execution_count": null,
   "metadata": {
    "collapsed": true,
    "deletable": true,
    "editable": true
   },
   "outputs": [],
   "source": [
    "start = timeit.default_timer()\n",
    "## generate updates for params\n",
    "\n",
    "for i in range (0,len(gs)):\n",
    "\n",
    "    gs_new = gs_updates[gs[i]]\n",
    "    ws = params[i*2]\n",
    "    [num_filters, num_channels, filter_size, filter_size] = ws.get_value().shape\n",
    "    W = gabor_weight_update_dev([num_filters, num_channels, filter_size, filter_size], gs_new)\n",
    "    #updates[ws] = theano.shared(W)\n",
    "    updates[ws] = W\n",
    "    updates[params[i*2+1]] = updates_old[params[i*2+1]]\n",
    "\n",
    "stop = timeit.default_timer()\n",
    "print(stop-start)"
   ]
  },
  {
   "cell_type": "code",
   "execution_count": null,
   "metadata": {
    "collapsed": false,
    "deletable": true,
    "editable": true
   },
   "outputs": [],
   "source": [
    "x = gs[1]\n",
    "gs_updates[gs[1]].broadcastable\n",
    "#x.broadcastable"
   ]
  },
  {
   "cell_type": "code",
   "execution_count": 2,
   "metadata": {
    "collapsed": true,
    "deletable": true,
    "editable": true
   },
   "outputs": [],
   "source": [
    "from input_process import read_images\n",
    "from train import run_params\n",
    "import pickle\n",
    "import numpy as np\n",
    "import random\n",
    "\n",
    "size = (116, 116) # resize images\n",
    "\n",
    "pkl_file = open('../fnames_collection_2', 'r')\n",
    "fnames = pkl_file.readline()\n",
    "fnames = fnames.split(' ')\n",
    "for i in range (0,len(fnames)):\n",
    "\tfnames[i] = str(fnames[i])\n",
    "\tfnames[i] = 'image' + fnames[i] + '.png'\n",
    "\n",
    "'''\n",
    "index = fnames[1:4000]\n",
    "random.shuffle(index)\n",
    "train_index = index[0:4000]\n",
    "test_index = fnames[4000:4200]\n",
    "'''\n",
    "train_index = fnames[0:5]\n",
    "test_index = fnames[10:15]\n",
    "\n",
    "\n",
    "\n",
    "label_path = '../NewPNGlabeled/'\n",
    "ori_path = '../JpegOriginalImg/'\n",
    "\n",
    "train_input, train_label = read_images(label_path, ori_path, train_index, size)\n",
    "test_input, test_label = read_images(label_path, ori_path, test_index, size)"
   ]
  },
  {
   "cell_type": "code",
   "execution_count": 3,
   "metadata": {
    "collapsed": true,
    "deletable": true,
    "editable": true
   },
   "outputs": [],
   "source": [
    "epoch = 1\n",
    "shape = [5,1,116,116]\n",
    "\n",
    "\n",
    "input_var = train_input\n",
    "label_var = train_label\n",
    "\n",
    "[network, loss, test_loss, test_acc, output_det] = unet.network(input_var, label_var, shape)\n",
    "\n",
    "\n",
    "params = nn.layers.get_all_params(network)\n",
    "lr = theano.shared(nn.utils.floatX(1e-4)) # learning rate\n",
    "updates = nn.updates.adam(loss,params, learning_rate=lr) # adam most widely used update scheme\n",
    "\n",
    "gs = nn.layers.get_all_gs(network)\n",
    "\n",
    "gs_updates = g_updates(loss, params, gs)\n",
    "updates = OrderedDict()\n",
    "updates_old = nn.updates.adam(loss, params, learning_rate=lr)\n",
    "\n",
    "\n",
    "[network, loss, test_loss, test_acc, output_det] = unet.network(input_var, label_var, shape)\n",
    "\n",
    "\n",
    "params = nn.layers.get_all_params(network)\n",
    "lr = theano.shared(nn.utils.floatX(1e-4)) # learning rate\n",
    "updates = nn.updates.adam(loss,params, learning_rate=lr) # adam most widely used update scheme\n",
    "\n",
    "gs = nn.layers.get_all_gs(network)\n",
    "\n",
    "gs_updates = g_updates(loss, params, gs)\n",
    "updates = OrderedDict()\n",
    "updates_old = nn.updates.adam(loss, params, learning_rate=lr)\n"
   ]
  },
  {
   "cell_type": "code",
   "execution_count": null,
   "metadata": {
    "collapsed": false,
    "deletable": true,
    "editable": true
   },
   "outputs": [],
   "source": [
    "print(len(gs))\n",
    "print(gs[1].shape.eval())\n",
    "gs_updates[gs[1]].shape"
   ]
  },
  {
   "cell_type": "code",
   "execution_count": 4,
   "metadata": {
    "collapsed": true,
    "deletable": true,
    "editable": true
   },
   "outputs": [],
   "source": [
    "gs_gradients = []\n",
    "gradients = nn.updates.get_or_compute_grads(loss, params)\n",
    "\n",
    "w_index = 0\n",
    "# First Loop\n",
    "# print(w_index)\n",
    "\n",
    "ws = params[w_index*2]\n",
    "g_params = gs[w_index].get_value()\n",
    "ws_gradients = gradients[w_index*2]\n",
    "\n",
    "[num_filters, num_channels, filter_size, filter_size] = ws.get_value().shape\n",
    "\n",
    "position = int(math.floor(filter_size/2))\n",
    "ws_grad = ws_gradients[:,:,position:position+1,position]\n",
    "\n",
    "# Second and third Loop\n",
    "additions = []\n",
    "for i in range (0, num_filters):\n",
    "    for j in range (0, num_channels):\n",
    "        g = g_params[i,j,:]\n",
    "        additions.append(g_psi(0,0,g))\n",
    "\n",
    "additions =  np.array(additions,dtype=np.float32).reshape(num_filters,num_channels,-1)\n",
    "g_gradients = theano.tensor.concatenate([ws_grad*0, ws_grad*0, ws_grad*0, ws_grad*0, ws_grad], axis=2)*additions\n",
    "gs_gradients.append(g_gradients)\n",
    "gs_updates = nn.updates.adam_dev(gs_gradients, gs)"
   ]
  },
  {
   "cell_type": "code",
   "execution_count": 5,
   "metadata": {
    "collapsed": false,
    "deletable": true,
    "editable": true
   },
   "outputs": [],
   "source": [
    "g_gradients = theano.tensor.concatenate([ws_grad, ws_grad, ws_grad, ws_grad, ws_grad], axis=2)"
   ]
  },
  {
   "cell_type": "code",
   "execution_count": 16,
   "metadata": {
    "collapsed": false
   },
   "outputs": [
    {
     "data": {
      "text/plain": [
       "array([[[  6.47848664e-10]],\n",
       "\n",
       "       [[ -1.21376098e-09]],\n",
       "\n",
       "       [[  1.87512436e-11]],\n",
       "\n",
       "       [[ -8.18007262e-09]],\n",
       "\n",
       "       [[ -5.46472156e-09]],\n",
       "\n",
       "       [[  6.03165802e-08]],\n",
       "\n",
       "       [[  2.80293051e-07]],\n",
       "\n",
       "       [[ -1.37698379e-07]],\n",
       "\n",
       "       [[  4.03921606e-13]],\n",
       "\n",
       "       [[ -2.67996857e-11]],\n",
       "\n",
       "       [[ -2.71048317e-09]],\n",
       "\n",
       "       [[ -1.86933224e-08]],\n",
       "\n",
       "       [[  4.44139503e-10]],\n",
       "\n",
       "       [[ -3.75827796e-07]],\n",
       "\n",
       "       [[  3.04136642e-12]],\n",
       "\n",
       "       [[ -2.07962714e-08]],\n",
       "\n",
       "       [[  5.57484718e-11]],\n",
       "\n",
       "       [[ -1.18298729e-07]],\n",
       "\n",
       "       [[  1.89803240e-09]],\n",
       "\n",
       "       [[  0.00000000e+00]],\n",
       "\n",
       "       [[ -2.03301376e-10]],\n",
       "\n",
       "       [[ -9.29535560e-10]],\n",
       "\n",
       "       [[ -1.97853089e-09]],\n",
       "\n",
       "       [[  1.10570681e-08]],\n",
       "\n",
       "       [[  6.06412476e-10]],\n",
       "\n",
       "       [[  1.23545230e-10]],\n",
       "\n",
       "       [[  9.30858309e-14]],\n",
       "\n",
       "       [[  1.50839953e-12]],\n",
       "\n",
       "       [[ -8.92339697e-20]],\n",
       "\n",
       "       [[ -4.00507929e-08]],\n",
       "\n",
       "       [[ -3.59120178e-10]],\n",
       "\n",
       "       [[ -9.92400189e-08]],\n",
       "\n",
       "       [[  1.63540988e-14]],\n",
       "\n",
       "       [[  2.92424862e-09]],\n",
       "\n",
       "       [[  1.30156779e-12]],\n",
       "\n",
       "       [[  5.24415444e-09]],\n",
       "\n",
       "       [[  2.21885399e-10]],\n",
       "\n",
       "       [[  3.36546768e-09]],\n",
       "\n",
       "       [[  4.54701476e-09]],\n",
       "\n",
       "       [[  4.69651318e-10]],\n",
       "\n",
       "       [[  0.00000000e+00]],\n",
       "\n",
       "       [[  1.22269190e-08]],\n",
       "\n",
       "       [[ -3.84891452e-09]],\n",
       "\n",
       "       [[  4.86307750e-09]],\n",
       "\n",
       "       [[  2.26222957e-10]],\n",
       "\n",
       "       [[  4.09636006e-11]],\n",
       "\n",
       "       [[  1.52639856e-09]],\n",
       "\n",
       "       [[  2.09643947e-09]],\n",
       "\n",
       "       [[  3.06481437e-11]],\n",
       "\n",
       "       [[  1.98397032e-08]],\n",
       "\n",
       "       [[ -1.86155300e-21]],\n",
       "\n",
       "       [[  0.00000000e+00]],\n",
       "\n",
       "       [[  2.10054404e-11]],\n",
       "\n",
       "       [[  7.40240425e-10]],\n",
       "\n",
       "       [[ -1.00658724e-07]],\n",
       "\n",
       "       [[  3.85230625e-10]],\n",
       "\n",
       "       [[  1.34109546e-09]],\n",
       "\n",
       "       [[  2.60464201e-08]],\n",
       "\n",
       "       [[ -1.26821956e-11]],\n",
       "\n",
       "       [[ -3.80396941e-08]],\n",
       "\n",
       "       [[ -1.12361382e-08]],\n",
       "\n",
       "       [[  1.88580493e-08]],\n",
       "\n",
       "       [[ -6.37608144e-09]],\n",
       "\n",
       "       [[  1.91114000e-11]]], dtype=float32)"
      ]
     },
     "execution_count": 16,
     "metadata": {},
     "output_type": "execute_result"
    }
   ],
   "source": [
    "g_gradients = theano.tensor.concatenate([ws_grad, ws_grad, ws_grad, ws_grad, ws_grad], axis=2)\n",
    "x = np.array([ws_grad, ws_grad, ws_grad, ws_grad, ws_grad])*np.array\n",
    "x[0].eval()\n"
   ]
  },
  {
   "cell_type": "code",
   "execution_count": 6,
   "metadata": {
    "collapsed": false,
    "deletable": true,
    "editable": true
   },
   "outputs": [
    {
     "data": {
      "text/plain": [
       "array([64,  1,  5])"
      ]
     },
     "execution_count": 6,
     "metadata": {},
     "output_type": "execute_result"
    }
   ],
   "source": [
    "g_gradients.shape.eval()"
   ]
  },
  {
   "cell_type": "code",
   "execution_count": null,
   "metadata": {
    "collapsed": true,
    "deletable": true,
    "editable": true
   },
   "outputs": [],
   "source": [
    "from collections import OrderedDict\n",
    "updates = OrderedDict()\n",
    "updates_old = nn.updates.adam(loss, params, learning_rate=lr)\n",
    "for i in range (0,len(gs)):\n",
    "    print(i)\n",
    "    gs_new = gs_updates[gs[0]]\n",
    "    ws = params[i*2]\n",
    "    [num_filters, num_channels, filter_size, filter_size] = ws.get_value().shape\n",
    "    W = gabor_weight_update([num_filters, num_channels, filter_size, filter_size], gs_new)\n",
    "    #updates[ws] = theano.shared(W)\n",
    "    updates[ws] = W\n",
    "    updates[params[i*2+1]] = updates_old[params[i*2+1]]\n"
   ]
  },
  {
   "cell_type": "code",
   "execution_count": null,
   "metadata": {
    "collapsed": true,
    "deletable": true,
    "editable": true
   },
   "outputs": [],
   "source": [
    "gradients = nn.updates.get_or_compute_grads(loss, params)\n",
    "ws_gradients = gradients[0]\n",
    "ws_gradients[0,0,1,1]\n",
    "theano.shared(ws_gradients)"
   ]
  },
  {
   "cell_type": "code",
   "execution_count": null,
   "metadata": {
    "collapsed": true,
    "deletable": true,
    "editable": true
   },
   "outputs": [],
   "source": [
    "def gabor_filter_dev2(x,y,params):\n",
    "    f,gamma,sigma,theta,psi = params\n",
    "    xt = x*theano.tensor.cos(theta) + y*theano.tensor.sin(theta)\n",
    "    yt = -x*theano.tensor.sin(theta) + y*theano.tensor.cos(theta)\n",
    "    z1 = -(xt**2 + (gamma*yt)**2)/(2*sigma**2)\n",
    "    z2 = 2*math.pi*f*xt+psi\n",
    "    #z2 = 1j*2*math.pi*f*xt+psi\n",
    "    value = f**2/(math.pi*gamma)*theano.tensor.exp(z1)*theano.tensor.cos(z2)\n",
    "    return value\n",
    "\n",
    "def gabor_filter_1(x,y,params):\n",
    "    f,gamma,sigma,theta,psi = params\n",
    "    xt = x*math.cos(theta) + y*math.sin(theta)\n",
    "    yt = -x*math.sin(theta) + y*math.cos(theta)\n",
    "    z1 = -(xt**2 + (gamma*yt)**2)/(2*sigma**2)\n",
    "    z2 = 1j*2*math.pi*f*xt+psi*1j\n",
    "    value = f**2/(math.pi*gamma)*math.exp(z1)*cmath.exp(z2)\n",
    "    return value\n",
    "\n",
    "def gabor_filter_2(x,y,params):\n",
    "    f,gamma,sigma,theta,psi = params\n",
    "    xt = x*math.cos(theta) + y*math.sin(theta)\n",
    "    yt = -x*math.sin(theta) + y*math.cos(theta)\n",
    "    z1 = -(xt**2 + (gamma*yt)**2)/(2*sigma**2)\n",
    "    z2 = 2*math.pi*f*xt+psi\n",
    "    value = f**2/(math.pi*gamma)*math.exp(z1)*math.cos(z2)\n",
    "    return value"
   ]
  },
  {
   "cell_type": "code",
   "execution_count": null,
   "metadata": {
    "collapsed": true,
    "deletable": true,
    "editable": true
   },
   "outputs": [],
   "source": [
    "g_try = gs_updates[gs[0]]\n",
    "updates\n",
    "g_try.dtype"
   ]
  },
  {
   "cell_type": "code",
   "execution_count": null,
   "metadata": {
    "collapsed": true,
    "deletable": true,
    "editable": true
   },
   "outputs": [],
   "source": [
    "updates_old = nn.updates.adam(loss, params, learning_rate=lr)\n",
    "updates_old[params[0]].dtype"
   ]
  },
  {
   "cell_type": "code",
   "execution_count": null,
   "metadata": {
    "collapsed": true,
    "deletable": true,
    "editable": true
   },
   "outputs": [],
   "source": [
    "gvalue = gs[0].get_value()\n",
    "g = gvalue[0,0,:]\n",
    "g_psi(0,0,g)\n"
   ]
  }
 ],
 "metadata": {
  "kernelspec": {
   "display_name": "Python 3",
   "language": "python",
   "name": "python3"
  },
  "language_info": {
   "codemirror_mode": {
    "name": "ipython",
    "version": 3
   },
   "file_extension": ".py",
   "mimetype": "text/x-python",
   "name": "python",
   "nbconvert_exporter": "python",
   "pygments_lexer": "ipython3",
   "version": "3.5.0"
  }
 },
 "nbformat": 4,
 "nbformat_minor": 2
}
